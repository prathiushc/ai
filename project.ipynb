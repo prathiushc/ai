{
 "cells": [
  {
   "cell_type": "code",
   "execution_count": 65,
   "id": "85100a2a",
   "metadata": {
    "scrolled": true
   },
   "outputs": [
    {
     "name": "stdout",
     "output_type": "stream",
     "text": [
      "Note: you may need to restart the kernel to use updated packages.\n",
      "Requirement already satisfied: pip in c:\\users\\dhino\\anaconda3\\lib\\site-packages (24.0)\n"
     ]
    }
   ],
   "source": [
    "pip install -U pip"
   ]
  },
  {
   "cell_type": "code",
   "execution_count": 14,
   "id": "683a44fa",
   "metadata": {},
   "outputs": [
    {
     "name": "stdout",
     "output_type": "stream",
     "text": [
      "Requirement already satisfied: langchain in c:\\users\\dhino\\anaconda3\\lib\\site-packages (0.1.6)\n",
      "Requirement already satisfied: PyYAML>=5.3 in c:\\users\\dhino\\anaconda3\\lib\\site-packages (from langchain) (6.0)\n",
      "Requirement already satisfied: SQLAlchemy<3,>=1.4 in c:\\users\\dhino\\anaconda3\\lib\\site-packages (from langchain) (1.4.39)\n",
      "Requirement already satisfied: aiohttp<4.0.0,>=3.8.3 in c:\\users\\dhino\\anaconda3\\lib\\site-packages (from langchain) (3.9.3)\n",
      "Requirement already satisfied: async-timeout<5.0.0,>=4.0.0 in c:\\users\\dhino\\anaconda3\\lib\\site-packages (from langchain) (4.0.3)\n",
      "Requirement already satisfied: dataclasses-json<0.7,>=0.5.7 in c:\\users\\dhino\\anaconda3\\lib\\site-packages (from langchain) (0.6.4)\n",
      "Requirement already satisfied: jsonpatch<2.0,>=1.33 in c:\\users\\dhino\\anaconda3\\lib\\site-packages (from langchain) (1.33)\n",
      "Requirement already satisfied: langchain-community<0.1,>=0.0.18 in c:\\users\\dhino\\anaconda3\\lib\\site-packages (from langchain) (0.0.19)\n",
      "Requirement already satisfied: langchain-core<0.2,>=0.1.22 in c:\\users\\dhino\\anaconda3\\lib\\site-packages (from langchain) (0.1.22)\n",
      "Requirement already satisfied: langsmith<0.1,>=0.0.83 in c:\\users\\dhino\\anaconda3\\lib\\site-packages (from langchain) (0.0.87)\n",
      "Requirement already satisfied: numpy<2,>=1 in c:\\users\\dhino\\anaconda3\\lib\\site-packages (from langchain) (1.23.5)\n",
      "Requirement already satisfied: pydantic<3,>=1 in c:\\users\\dhino\\anaconda3\\lib\\site-packages (from langchain) (2.6.1)\n",
      "Requirement already satisfied: requests<3,>=2 in c:\\users\\dhino\\anaconda3\\lib\\site-packages (from langchain) (2.31.0)\n",
      "Requirement already satisfied: tenacity<9.0.0,>=8.1.0 in c:\\users\\dhino\\anaconda3\\lib\\site-packages (from langchain) (8.2.3)\n",
      "Requirement already satisfied: aiosignal>=1.1.2 in c:\\users\\dhino\\anaconda3\\lib\\site-packages (from aiohttp<4.0.0,>=3.8.3->langchain) (1.3.1)\n",
      "Requirement already satisfied: attrs>=17.3.0 in c:\\users\\dhino\\anaconda3\\lib\\site-packages (from aiohttp<4.0.0,>=3.8.3->langchain) (22.1.0)\n",
      "Requirement already satisfied: frozenlist>=1.1.1 in c:\\users\\dhino\\anaconda3\\lib\\site-packages (from aiohttp<4.0.0,>=3.8.3->langchain) (1.4.1)\n",
      "Requirement already satisfied: multidict<7.0,>=4.5 in c:\\users\\dhino\\anaconda3\\lib\\site-packages (from aiohttp<4.0.0,>=3.8.3->langchain) (6.0.5)\n",
      "Requirement already satisfied: yarl<2.0,>=1.0 in c:\\users\\dhino\\anaconda3\\lib\\site-packages (from aiohttp<4.0.0,>=3.8.3->langchain) (1.9.4)\n",
      "Requirement already satisfied: marshmallow<4.0.0,>=3.18.0 in c:\\users\\dhino\\anaconda3\\lib\\site-packages (from dataclasses-json<0.7,>=0.5.7->langchain) (3.20.2)\n",
      "Requirement already satisfied: typing-inspect<1,>=0.4.0 in c:\\users\\dhino\\anaconda3\\lib\\site-packages (from dataclasses-json<0.7,>=0.5.7->langchain) (0.9.0)\n",
      "Requirement already satisfied: jsonpointer>=1.9 in c:\\users\\dhino\\anaconda3\\lib\\site-packages (from jsonpatch<2.0,>=1.33->langchain) (2.1)\n",
      "Requirement already satisfied: anyio<5,>=3 in c:\\users\\dhino\\anaconda3\\lib\\site-packages (from langchain-core<0.2,>=0.1.22->langchain) (3.5.0)\n",
      "Requirement already satisfied: packaging<24.0,>=23.2 in c:\\users\\dhino\\anaconda3\\lib\\site-packages (from langchain-core<0.2,>=0.1.22->langchain) (23.2)\n",
      "Requirement already satisfied: annotated-types>=0.4.0 in c:\\users\\dhino\\anaconda3\\lib\\site-packages (from pydantic<3,>=1->langchain) (0.6.0)\n",
      "Requirement already satisfied: pydantic-core==2.16.2 in c:\\users\\dhino\\anaconda3\\lib\\site-packages (from pydantic<3,>=1->langchain) (2.16.2)\n",
      "Requirement already satisfied: typing-extensions>=4.6.1 in c:\\users\\dhino\\anaconda3\\lib\\site-packages (from pydantic<3,>=1->langchain) (4.9.0)\n",
      "Requirement already satisfied: charset-normalizer<4,>=2 in c:\\users\\dhino\\anaconda3\\lib\\site-packages (from requests<3,>=2->langchain) (3.3.2)\n",
      "Requirement already satisfied: idna<4,>=2.5 in c:\\users\\dhino\\anaconda3\\lib\\site-packages (from requests<3,>=2->langchain) (3.4)\n",
      "Requirement already satisfied: urllib3<3,>=1.21.1 in c:\\users\\dhino\\anaconda3\\lib\\site-packages (from requests<3,>=2->langchain) (2.2.0)\n",
      "Requirement already satisfied: certifi>=2017.4.17 in c:\\users\\dhino\\anaconda3\\lib\\site-packages (from requests<3,>=2->langchain) (2024.2.2)\n",
      "Requirement already satisfied: greenlet!=0.4.17 in c:\\users\\dhino\\anaconda3\\lib\\site-packages (from SQLAlchemy<3,>=1.4->langchain) (2.0.1)\n",
      "Requirement already satisfied: sniffio>=1.1 in c:\\users\\dhino\\anaconda3\\lib\\site-packages (from anyio<5,>=3->langchain-core<0.2,>=0.1.22->langchain) (1.2.0)\n",
      "Requirement already satisfied: mypy-extensions>=0.3.0 in c:\\users\\dhino\\anaconda3\\lib\\site-packages (from typing-inspect<1,>=0.4.0->dataclasses-json<0.7,>=0.5.7->langchain) (1.0.0)\n"
     ]
    }
   ],
   "source": [
    "!pip install langchain \n"
   ]
  },
  {
   "cell_type": "code",
   "execution_count": 9,
   "id": "10edd72e",
   "metadata": {},
   "outputs": [
    {
     "name": "stdout",
     "output_type": "stream",
     "text": [
      "Requirement already satisfied: openai in c:\\users\\dhino\\anaconda3\\lib\\site-packages (1.12.0)\n",
      "Requirement already satisfied: anyio<5,>=3.5.0 in c:\\users\\dhino\\anaconda3\\lib\\site-packages (from openai) (3.5.0)\n",
      "Requirement already satisfied: distro<2,>=1.7.0 in c:\\users\\dhino\\anaconda3\\lib\\site-packages (from openai) (1.9.0)\n",
      "Requirement already satisfied: httpx<1,>=0.23.0 in c:\\users\\dhino\\anaconda3\\lib\\site-packages (from openai) (0.26.0)\n",
      "Requirement already satisfied: pydantic<3,>=1.9.0 in c:\\users\\dhino\\anaconda3\\lib\\site-packages (from openai) (2.6.1)\n",
      "Requirement already satisfied: sniffio in c:\\users\\dhino\\anaconda3\\lib\\site-packages (from openai) (1.2.0)\n",
      "Requirement already satisfied: tqdm>4 in c:\\users\\dhino\\anaconda3\\lib\\site-packages (from openai) (4.64.1)\n",
      "Requirement already satisfied: typing-extensions<5,>=4.7 in c:\\users\\dhino\\anaconda3\\lib\\site-packages (from openai) (4.9.0)\n",
      "Requirement already satisfied: idna>=2.8 in c:\\users\\dhino\\anaconda3\\lib\\site-packages (from anyio<5,>=3.5.0->openai) (3.4)\n",
      "Requirement already satisfied: certifi in c:\\users\\dhino\\anaconda3\\lib\\site-packages (from httpx<1,>=0.23.0->openai) (2024.2.2)\n",
      "Requirement already satisfied: httpcore==1.* in c:\\users\\dhino\\anaconda3\\lib\\site-packages (from httpx<1,>=0.23.0->openai) (1.0.2)\n",
      "Requirement already satisfied: h11<0.15,>=0.13 in c:\\users\\dhino\\anaconda3\\lib\\site-packages (from httpcore==1.*->httpx<1,>=0.23.0->openai) (0.14.0)\n",
      "Requirement already satisfied: annotated-types>=0.4.0 in c:\\users\\dhino\\anaconda3\\lib\\site-packages (from pydantic<3,>=1.9.0->openai) (0.6.0)\n",
      "Requirement already satisfied: pydantic-core==2.16.2 in c:\\users\\dhino\\anaconda3\\lib\\site-packages (from pydantic<3,>=1.9.0->openai) (2.16.2)\n",
      "Requirement already satisfied: colorama in c:\\users\\dhino\\anaconda3\\lib\\site-packages (from tqdm>4->openai) (0.4.6)\n"
     ]
    }
   ],
   "source": [
    "!pip install openai \n"
   ]
  },
  {
   "cell_type": "code",
   "execution_count": 21,
   "id": "d58aae9e",
   "metadata": {},
   "outputs": [
    {
     "name": "stdout",
     "output_type": "stream",
     "text": [
      "Requirement already satisfied: PyPDF2 in c:\\users\\dhino\\anaconda3\\lib\\site-packages (3.0.1)\n"
     ]
    }
   ],
   "source": [
    "!pip install PyPDF2 "
   ]
  },
  {
   "cell_type": "code",
   "execution_count": 33,
   "id": "45b3dd3b",
   "metadata": {},
   "outputs": [
    {
     "name": "stdout",
     "output_type": "stream",
     "text": [
      "Requirement already satisfied: faiss-cpu in c:\\users\\dhino\\anaconda3\\lib\\site-packages (1.7.4)\n"
     ]
    }
   ],
   "source": [
    " !pip install faiss-cpu \n"
   ]
  },
  {
   "cell_type": "code",
   "execution_count": 23,
   "id": "2ee8fcee",
   "metadata": {},
   "outputs": [
    {
     "name": "stdout",
     "output_type": "stream",
     "text": [
      "Requirement already satisfied: tiktoken in c:\\users\\dhino\\anaconda3\\lib\\site-packages (0.5.2)\n",
      "Requirement already satisfied: regex>=2022.1.18 in c:\\users\\dhino\\anaconda3\\lib\\site-packages (from tiktoken) (2022.7.9)\n",
      "Requirement already satisfied: requests>=2.26.0 in c:\\users\\dhino\\anaconda3\\lib\\site-packages (from tiktoken) (2.31.0)\n",
      "Requirement already satisfied: charset-normalizer<4,>=2 in c:\\users\\dhino\\anaconda3\\lib\\site-packages (from requests>=2.26.0->tiktoken) (3.3.2)\n",
      "Requirement already satisfied: idna<4,>=2.5 in c:\\users\\dhino\\anaconda3\\lib\\site-packages (from requests>=2.26.0->tiktoken) (3.4)\n",
      "Requirement already satisfied: urllib3<3,>=1.21.1 in c:\\users\\dhino\\anaconda3\\lib\\site-packages (from requests>=2.26.0->tiktoken) (2.2.0)\n",
      "Requirement already satisfied: certifi>=2017.4.17 in c:\\users\\dhino\\anaconda3\\lib\\site-packages (from requests>=2.26.0->tiktoken) (2024.2.2)\n"
     ]
    }
   ],
   "source": [
    "!pip install tiktoken \n"
   ]
  },
  {
   "cell_type": "code",
   "execution_count": 24,
   "id": "a9d0c288",
   "metadata": {},
   "outputs": [
    {
     "name": "stdout",
     "output_type": "stream",
     "text": [
      "Requirement already satisfied: unstructured[all-docs] in c:\\users\\dhino\\anaconda3\\lib\\site-packages (0.12.4)\n",
      "Requirement already satisfied: chardet in c:\\users\\dhino\\anaconda3\\lib\\site-packages (from unstructured[all-docs]) (4.0.0)\n",
      "Requirement already satisfied: filetype in c:\\users\\dhino\\anaconda3\\lib\\site-packages (from unstructured[all-docs]) (1.2.0)\n",
      "Requirement already satisfied: python-magic in c:\\users\\dhino\\anaconda3\\lib\\site-packages (from unstructured[all-docs]) (0.4.27)\n",
      "Requirement already satisfied: lxml in c:\\users\\dhino\\anaconda3\\lib\\site-packages (from unstructured[all-docs]) (4.9.1)\n",
      "Requirement already satisfied: nltk in c:\\users\\dhino\\anaconda3\\lib\\site-packages (from unstructured[all-docs]) (3.7)\n",
      "Requirement already satisfied: tabulate in c:\\users\\dhino\\anaconda3\\lib\\site-packages (from unstructured[all-docs]) (0.8.10)\n",
      "Requirement already satisfied: requests in c:\\users\\dhino\\anaconda3\\lib\\site-packages (from unstructured[all-docs]) (2.31.0)\n",
      "Requirement already satisfied: beautifulsoup4 in c:\\users\\dhino\\anaconda3\\lib\\site-packages (from unstructured[all-docs]) (4.11.1)\n",
      "Requirement already satisfied: emoji in c:\\users\\dhino\\anaconda3\\lib\\site-packages (from unstructured[all-docs]) (2.10.1)\n",
      "Requirement already satisfied: dataclasses-json in c:\\users\\dhino\\anaconda3\\lib\\site-packages (from unstructured[all-docs]) (0.6.4)\n",
      "Requirement already satisfied: python-iso639 in c:\\users\\dhino\\anaconda3\\lib\\site-packages (from unstructured[all-docs]) (2024.2.7)\n",
      "Requirement already satisfied: langdetect in c:\\users\\dhino\\anaconda3\\lib\\site-packages (from unstructured[all-docs]) (1.0.9)\n",
      "Requirement already satisfied: numpy in c:\\users\\dhino\\anaconda3\\lib\\site-packages (from unstructured[all-docs]) (1.23.5)\n",
      "Requirement already satisfied: rapidfuzz in c:\\users\\dhino\\anaconda3\\lib\\site-packages (from unstructured[all-docs]) (3.6.1)\n",
      "Requirement already satisfied: backoff in c:\\users\\dhino\\anaconda3\\lib\\site-packages (from unstructured[all-docs]) (2.2.1)\n",
      "Requirement already satisfied: typing-extensions in c:\\users\\dhino\\anaconda3\\lib\\site-packages (from unstructured[all-docs]) (4.9.0)\n",
      "Requirement already satisfied: unstructured-client>=0.15.1 in c:\\users\\dhino\\anaconda3\\lib\\site-packages (from unstructured[all-docs]) (0.18.0)\n",
      "Requirement already satisfied: wrapt in c:\\users\\dhino\\anaconda3\\lib\\site-packages (from unstructured[all-docs]) (1.14.1)\n",
      "Requirement already satisfied: unstructured-inference==0.7.23 in c:\\users\\dhino\\anaconda3\\lib\\site-packages (from unstructured[all-docs]) (0.7.23)\n",
      "Requirement already satisfied: markdown in c:\\users\\dhino\\anaconda3\\lib\\site-packages (from unstructured[all-docs]) (3.4.1)\n",
      "Requirement already satisfied: pdfminer.six in c:\\users\\dhino\\anaconda3\\lib\\site-packages (from unstructured[all-docs]) (20221105)\n",
      "Requirement already satisfied: pypdf in c:\\users\\dhino\\anaconda3\\lib\\site-packages (from unstructured[all-docs]) (4.0.1)\n",
      "Requirement already satisfied: unstructured.pytesseract>=0.3.12 in c:\\users\\dhino\\anaconda3\\lib\\site-packages (from unstructured[all-docs]) (0.3.12)\n",
      "Requirement already satisfied: python-pptx<=0.6.23 in c:\\users\\dhino\\anaconda3\\lib\\site-packages (from unstructured[all-docs]) (0.6.23)\n",
      "Requirement already satisfied: pypandoc in c:\\users\\dhino\\anaconda3\\lib\\site-packages (from unstructured[all-docs]) (1.12)\n",
      "Requirement already satisfied: python-docx in c:\\users\\dhino\\anaconda3\\lib\\site-packages (from unstructured[all-docs]) (1.1.0)\n",
      "Requirement already satisfied: pdf2image in c:\\users\\dhino\\anaconda3\\lib\\site-packages (from unstructured[all-docs]) (1.17.0)\n",
      "Requirement already satisfied: xlrd in c:\\users\\dhino\\anaconda3\\lib\\site-packages (from unstructured[all-docs]) (2.0.1)\n",
      "Requirement already satisfied: pikepdf in c:\\users\\dhino\\anaconda3\\lib\\site-packages (from unstructured[all-docs]) (8.12.0)\n",
      "Requirement already satisfied: pillow-heif in c:\\users\\dhino\\anaconda3\\lib\\site-packages (from unstructured[all-docs]) (0.15.0)\n",
      "Requirement already satisfied: networkx in c:\\users\\dhino\\anaconda3\\lib\\site-packages (from unstructured[all-docs]) (2.8.4)\n",
      "Requirement already satisfied: msg-parser in c:\\users\\dhino\\anaconda3\\lib\\site-packages (from unstructured[all-docs]) (1.2.0)\n",
      "Requirement already satisfied: onnx in c:\\users\\dhino\\anaconda3\\lib\\site-packages (from unstructured[all-docs]) (1.15.0)\n",
      "Requirement already satisfied: pandas in c:\\users\\dhino\\anaconda3\\lib\\site-packages (from unstructured[all-docs]) (1.5.3)\n",
      "Requirement already satisfied: openpyxl in c:\\users\\dhino\\anaconda3\\lib\\site-packages (from unstructured[all-docs]) (3.0.10)\n",
      "Requirement already satisfied: layoutparser[layoutmodels,tesseract] in c:\\users\\dhino\\anaconda3\\lib\\site-packages (from unstructured-inference==0.7.23->unstructured[all-docs]) (0.3.4)\n",
      "Requirement already satisfied: python-multipart in c:\\users\\dhino\\anaconda3\\lib\\site-packages (from unstructured-inference==0.7.23->unstructured[all-docs]) (0.0.7)\n",
      "Requirement already satisfied: huggingface-hub in c:\\users\\dhino\\anaconda3\\lib\\site-packages (from unstructured-inference==0.7.23->unstructured[all-docs]) (0.20.3)\n",
      "Requirement already satisfied: opencv-python!=4.7.0.68 in c:\\users\\dhino\\anaconda3\\lib\\site-packages (from unstructured-inference==0.7.23->unstructured[all-docs]) (4.9.0.80)\n",
      "Requirement already satisfied: onnxruntime<1.16 in c:\\users\\dhino\\anaconda3\\lib\\site-packages (from unstructured-inference==0.7.23->unstructured[all-docs]) (1.15.1)\n",
      "Requirement already satisfied: transformers>=4.25.1 in c:\\users\\dhino\\anaconda3\\lib\\site-packages (from unstructured-inference==0.7.23->unstructured[all-docs]) (4.37.2)\n",
      "Requirement already satisfied: Pillow>=3.3.2 in c:\\users\\dhino\\anaconda3\\lib\\site-packages (from python-pptx<=0.6.23->unstructured[all-docs]) (10.2.0)\n",
      "Requirement already satisfied: XlsxWriter>=0.5.7 in c:\\users\\dhino\\anaconda3\\lib\\site-packages (from python-pptx<=0.6.23->unstructured[all-docs]) (3.1.9)\n",
      "Requirement already satisfied: certifi>=2023.7.22 in c:\\users\\dhino\\anaconda3\\lib\\site-packages (from unstructured-client>=0.15.1->unstructured[all-docs]) (2024.2.2)\n",
      "Requirement already satisfied: charset-normalizer>=3.2.0 in c:\\users\\dhino\\anaconda3\\lib\\site-packages (from unstructured-client>=0.15.1->unstructured[all-docs]) (3.3.2)\n",
      "Requirement already satisfied: dataclasses-json-speakeasy>=0.5.11 in c:\\users\\dhino\\anaconda3\\lib\\site-packages (from unstructured-client>=0.15.1->unstructured[all-docs]) (0.5.11)\n",
      "Requirement already satisfied: idna>=3.4 in c:\\users\\dhino\\anaconda3\\lib\\site-packages (from unstructured-client>=0.15.1->unstructured[all-docs]) (3.4)\n",
      "Requirement already satisfied: jsonpath-python>=1.0.6 in c:\\users\\dhino\\anaconda3\\lib\\site-packages (from unstructured-client>=0.15.1->unstructured[all-docs]) (1.0.6)\n",
      "Requirement already satisfied: marshmallow>=3.19.0 in c:\\users\\dhino\\anaconda3\\lib\\site-packages (from unstructured-client>=0.15.1->unstructured[all-docs]) (3.20.2)\n",
      "Requirement already satisfied: mypy-extensions>=1.0.0 in c:\\users\\dhino\\anaconda3\\lib\\site-packages (from unstructured-client>=0.15.1->unstructured[all-docs]) (1.0.0)\n",
      "Requirement already satisfied: packaging>=23.1 in c:\\users\\dhino\\anaconda3\\lib\\site-packages (from unstructured-client>=0.15.1->unstructured[all-docs]) (23.2)\n",
      "Requirement already satisfied: python-dateutil>=2.8.2 in c:\\users\\dhino\\anaconda3\\lib\\site-packages (from unstructured-client>=0.15.1->unstructured[all-docs]) (2.8.2)\n",
      "Requirement already satisfied: six>=1.16.0 in c:\\users\\dhino\\anaconda3\\lib\\site-packages (from unstructured-client>=0.15.1->unstructured[all-docs]) (1.16.0)\n",
      "Requirement already satisfied: typing-inspect>=0.9.0 in c:\\users\\dhino\\anaconda3\\lib\\site-packages (from unstructured-client>=0.15.1->unstructured[all-docs]) (0.9.0)\n",
      "Requirement already satisfied: urllib3>=1.26.18 in c:\\users\\dhino\\anaconda3\\lib\\site-packages (from unstructured-client>=0.15.1->unstructured[all-docs]) (2.2.0)\n",
      "Requirement already satisfied: soupsieve>1.2 in c:\\users\\dhino\\anaconda3\\lib\\site-packages (from beautifulsoup4->unstructured[all-docs]) (2.3.2.post1)\n",
      "Requirement already satisfied: olefile>=0.46 in c:\\users\\dhino\\anaconda3\\lib\\site-packages (from msg-parser->unstructured[all-docs]) (0.47)\n",
      "Requirement already satisfied: click in c:\\users\\dhino\\anaconda3\\lib\\site-packages (from nltk->unstructured[all-docs]) (8.0.4)\n",
      "Requirement already satisfied: joblib in c:\\users\\dhino\\anaconda3\\lib\\site-packages (from nltk->unstructured[all-docs]) (1.1.1)\n",
      "Requirement already satisfied: regex>=2021.8.3 in c:\\users\\dhino\\anaconda3\\lib\\site-packages (from nltk->unstructured[all-docs]) (2022.7.9)\n",
      "Requirement already satisfied: tqdm in c:\\users\\dhino\\anaconda3\\lib\\site-packages (from nltk->unstructured[all-docs]) (4.64.1)\n",
      "Requirement already satisfied: protobuf>=3.20.2 in c:\\users\\dhino\\anaconda3\\lib\\site-packages (from onnx->unstructured[all-docs]) (4.25.2)\n",
      "Requirement already satisfied: et_xmlfile in c:\\users\\dhino\\anaconda3\\lib\\site-packages (from openpyxl->unstructured[all-docs]) (1.1.0)\n",
      "Requirement already satisfied: pytz>=2020.1 in c:\\users\\dhino\\anaconda3\\lib\\site-packages (from pandas->unstructured[all-docs]) (2022.7)\n",
      "Requirement already satisfied: cryptography>=36.0.0 in c:\\users\\dhino\\anaconda3\\lib\\site-packages (from pdfminer.six->unstructured[all-docs]) (39.0.1)\n",
      "Requirement already satisfied: Deprecated in c:\\users\\dhino\\anaconda3\\lib\\site-packages (from pikepdf->unstructured[all-docs]) (1.2.14)\n",
      "Requirement already satisfied: cffi>=1.12 in c:\\users\\dhino\\anaconda3\\lib\\site-packages (from cryptography>=36.0.0->pdfminer.six->unstructured[all-docs]) (1.15.1)\n",
      "Requirement already satisfied: coloredlogs in c:\\users\\dhino\\anaconda3\\lib\\site-packages (from onnxruntime<1.16->unstructured-inference==0.7.23->unstructured[all-docs]) (15.0.1)\n",
      "Requirement already satisfied: flatbuffers in c:\\users\\dhino\\anaconda3\\lib\\site-packages (from onnxruntime<1.16->unstructured-inference==0.7.23->unstructured[all-docs]) (23.5.26)\n",
      "Requirement already satisfied: sympy in c:\\users\\dhino\\anaconda3\\lib\\site-packages (from onnxruntime<1.16->unstructured-inference==0.7.23->unstructured[all-docs]) (1.11.1)\n",
      "Requirement already satisfied: filelock in c:\\users\\dhino\\anaconda3\\lib\\site-packages (from transformers>=4.25.1->unstructured-inference==0.7.23->unstructured[all-docs]) (3.9.0)\n",
      "Requirement already satisfied: pyyaml>=5.1 in c:\\users\\dhino\\anaconda3\\lib\\site-packages (from transformers>=4.25.1->unstructured-inference==0.7.23->unstructured[all-docs]) (6.0)\n",
      "Requirement already satisfied: tokenizers<0.19,>=0.14 in c:\\users\\dhino\\anaconda3\\lib\\site-packages (from transformers>=4.25.1->unstructured-inference==0.7.23->unstructured[all-docs]) (0.15.1)\n",
      "Requirement already satisfied: safetensors>=0.4.1 in c:\\users\\dhino\\anaconda3\\lib\\site-packages (from transformers>=4.25.1->unstructured-inference==0.7.23->unstructured[all-docs]) (0.4.2)\n",
      "Requirement already satisfied: fsspec>=2023.5.0 in c:\\users\\dhino\\anaconda3\\lib\\site-packages (from huggingface-hub->unstructured-inference==0.7.23->unstructured[all-docs]) (2024.2.0)\n",
      "Requirement already satisfied: colorama in c:\\users\\dhino\\anaconda3\\lib\\site-packages (from tqdm->nltk->unstructured[all-docs]) (0.4.6)\n",
      "Requirement already satisfied: scipy in c:\\users\\dhino\\anaconda3\\lib\\site-packages (from layoutparser[layoutmodels,tesseract]->unstructured-inference==0.7.23->unstructured[all-docs]) (1.10.0)\n",
      "Requirement already satisfied: iopath in c:\\users\\dhino\\anaconda3\\lib\\site-packages (from layoutparser[layoutmodels,tesseract]->unstructured-inference==0.7.23->unstructured[all-docs]) (0.1.10)\n",
      "Requirement already satisfied: pdfplumber in c:\\users\\dhino\\anaconda3\\lib\\site-packages (from layoutparser[layoutmodels,tesseract]->unstructured-inference==0.7.23->unstructured[all-docs]) (0.10.3)\n",
      "Requirement already satisfied: pytesseract in c:\\users\\dhino\\anaconda3\\lib\\site-packages (from layoutparser[layoutmodels,tesseract]->unstructured-inference==0.7.23->unstructured[all-docs]) (0.3.10)\n",
      "Requirement already satisfied: torch in c:\\users\\dhino\\anaconda3\\lib\\site-packages (from layoutparser[layoutmodels,tesseract]->unstructured-inference==0.7.23->unstructured[all-docs]) (2.2.0)\n",
      "Requirement already satisfied: torchvision in c:\\users\\dhino\\anaconda3\\lib\\site-packages (from layoutparser[layoutmodels,tesseract]->unstructured-inference==0.7.23->unstructured[all-docs]) (0.17.0)\n",
      "Requirement already satisfied: effdet in c:\\users\\dhino\\anaconda3\\lib\\site-packages (from layoutparser[layoutmodels,tesseract]->unstructured-inference==0.7.23->unstructured[all-docs]) (0.4.1)\n",
      "Requirement already satisfied: pycparser in c:\\users\\dhino\\anaconda3\\lib\\site-packages (from cffi>=1.12->cryptography>=36.0.0->pdfminer.six->unstructured[all-docs]) (2.21)\n",
      "Requirement already satisfied: humanfriendly>=9.1 in c:\\users\\dhino\\anaconda3\\lib\\site-packages (from coloredlogs->onnxruntime<1.16->unstructured-inference==0.7.23->unstructured[all-docs]) (10.0)\n",
      "Requirement already satisfied: timm>=0.9.2 in c:\\users\\dhino\\anaconda3\\lib\\site-packages (from effdet->layoutparser[layoutmodels,tesseract]->unstructured-inference==0.7.23->unstructured[all-docs]) (0.9.12)\n",
      "Requirement already satisfied: pycocotools>=2.0.2 in c:\\users\\dhino\\anaconda3\\lib\\site-packages (from effdet->layoutparser[layoutmodels,tesseract]->unstructured-inference==0.7.23->unstructured[all-docs]) (2.0.7)\n",
      "Requirement already satisfied: omegaconf>=2.0 in c:\\users\\dhino\\anaconda3\\lib\\site-packages (from effdet->layoutparser[layoutmodels,tesseract]->unstructured-inference==0.7.23->unstructured[all-docs]) (2.3.0)\n",
      "Requirement already satisfied: jinja2 in c:\\users\\dhino\\anaconda3\\lib\\site-packages (from torch->layoutparser[layoutmodels,tesseract]->unstructured-inference==0.7.23->unstructured[all-docs]) (3.1.2)\n",
      "Requirement already satisfied: portalocker in c:\\users\\dhino\\anaconda3\\lib\\site-packages (from iopath->layoutparser[layoutmodels,tesseract]->unstructured-inference==0.7.23->unstructured[all-docs]) (2.8.2)\n",
      "Requirement already satisfied: pypdfium2>=4.18.0 in c:\\users\\dhino\\anaconda3\\lib\\site-packages (from pdfplumber->layoutparser[layoutmodels,tesseract]->unstructured-inference==0.7.23->unstructured[all-docs]) (4.26.0)\n",
      "Requirement already satisfied: mpmath>=0.19 in c:\\users\\dhino\\anaconda3\\lib\\site-packages (from sympy->onnxruntime<1.16->unstructured-inference==0.7.23->unstructured[all-docs]) (1.2.1)\n",
      "Requirement already satisfied: pyreadline3 in c:\\users\\dhino\\anaconda3\\lib\\site-packages (from humanfriendly>=9.1->coloredlogs->onnxruntime<1.16->unstructured-inference==0.7.23->unstructured[all-docs]) (3.4.1)\n",
      "Requirement already satisfied: antlr4-python3-runtime==4.9.* in c:\\users\\dhino\\anaconda3\\lib\\site-packages (from omegaconf>=2.0->effdet->layoutparser[layoutmodels,tesseract]->unstructured-inference==0.7.23->unstructured[all-docs]) (4.9.3)\n",
      "Requirement already satisfied: matplotlib>=2.1.0 in c:\\users\\dhino\\anaconda3\\lib\\site-packages (from pycocotools>=2.0.2->effdet->layoutparser[layoutmodels,tesseract]->unstructured-inference==0.7.23->unstructured[all-docs]) (3.7.0)\n",
      "Requirement already satisfied: MarkupSafe>=2.0 in c:\\users\\dhino\\anaconda3\\lib\\site-packages (from jinja2->torch->layoutparser[layoutmodels,tesseract]->unstructured-inference==0.7.23->unstructured[all-docs]) (2.1.1)\n",
      "Requirement already satisfied: pywin32>=226 in c:\\users\\dhino\\anaconda3\\lib\\site-packages (from portalocker->iopath->layoutparser[layoutmodels,tesseract]->unstructured-inference==0.7.23->unstructured[all-docs]) (305.1)\n",
      "Requirement already satisfied: contourpy>=1.0.1 in c:\\users\\dhino\\anaconda3\\lib\\site-packages (from matplotlib>=2.1.0->pycocotools>=2.0.2->effdet->layoutparser[layoutmodels,tesseract]->unstructured-inference==0.7.23->unstructured[all-docs]) (1.0.5)\n",
      "Requirement already satisfied: cycler>=0.10 in c:\\users\\dhino\\anaconda3\\lib\\site-packages (from matplotlib>=2.1.0->pycocotools>=2.0.2->effdet->layoutparser[layoutmodels,tesseract]->unstructured-inference==0.7.23->unstructured[all-docs]) (0.11.0)\n",
      "Requirement already satisfied: fonttools>=4.22.0 in c:\\users\\dhino\\anaconda3\\lib\\site-packages (from matplotlib>=2.1.0->pycocotools>=2.0.2->effdet->layoutparser[layoutmodels,tesseract]->unstructured-inference==0.7.23->unstructured[all-docs]) (4.25.0)\n",
      "Requirement already satisfied: kiwisolver>=1.0.1 in c:\\users\\dhino\\anaconda3\\lib\\site-packages (from matplotlib>=2.1.0->pycocotools>=2.0.2->effdet->layoutparser[layoutmodels,tesseract]->unstructured-inference==0.7.23->unstructured[all-docs]) (1.4.4)\n",
      "Requirement already satisfied: pyparsing>=2.3.1 in c:\\users\\dhino\\anaconda3\\lib\\site-packages (from matplotlib>=2.1.0->pycocotools>=2.0.2->effdet->layoutparser[layoutmodels,tesseract]->unstructured-inference==0.7.23->unstructured[all-docs]) (3.0.9)\n"
     ]
    }
   ],
   "source": [
    " !pip install \"unstructured[all-docs]\"\n"
   ]
  },
  {
   "cell_type": "code",
   "execution_count": 111,
   "id": "51593a83",
   "metadata": {},
   "outputs": [],
   "source": [
    "from langchain.embeddings.openai import OpenAIEmbeddings \n"
   ]
  },
  {
   "cell_type": "code",
   "execution_count": 112,
   "id": "ed9cc6e8",
   "metadata": {},
   "outputs": [],
   "source": [
    "from langchain.text_splitter import CharacterTextSplitter"
   ]
  },
  {
   "cell_type": "code",
   "execution_count": 113,
   "id": "f9b6eabe",
   "metadata": {},
   "outputs": [],
   "source": [
    "from langchain.vectorstores import FAISS"
   ]
  },
  {
   "cell_type": "code",
   "execution_count": 117,
   "id": "0976e185",
   "metadata": {},
   "outputs": [],
   "source": [
    "import os\n",
    "os.environ[\"OPENAI_API_KEY\"] = \"\""
   ]
  },
  {
   "cell_type": "code",
   "execution_count": 118,
   "id": "43e16f8d",
   "metadata": {},
   "outputs": [],
   "source": [
    "from langchain.document_loaders import DirectoryLoader\n",
    "loader = DirectoryLoader('dat')\n",
    "documents = loader.load()"
   ]
  },
  {
   "cell_type": "code",
   "execution_count": 119,
   "id": "d9b91533",
   "metadata": {},
   "outputs": [
    {
     "data": {
      "text/plain": [
       "[Document(page_content='The Taj Mahal (/ˌtɑːdʒ məˈhɑːl, ˌtɑːʒ-/; lit. \\'Crown of the Palace\\')[4][5][6] is an ivory-white marble mausoleum on the right bank of the river Yamuna in Agra, Uttar Pradesh, India. It was commissioned in 1631 by the fifth Mughal emperor, Shah Jahan (r.\\u20091628–1658) to house the tomb of his beloved wife, Mumtaz Mahal; it also houses the tomb of Shah Jahan himself. The tomb is the centrepiece of a 17-hectare (42-acre) complex, which includes a mosque and a guest house, and is set in formal gardens bounded on three sides by a crenellated wall.\\n\\nConstruction of the mausoleum was essentially completed in 1643, but work continued on other phases of the project for another 10 years. The first ceremony held at the mausoleum was an observance by Shah Jahan, on 6 February 1643, of the 12th anniversary of the death of Mumtaz Mahal. The mausoleum was opened at that time to thousands of mourners. [7][8]\\n\\nThe Taj Mahal complex is believed to have been completed in its entirety in 1653 at a cost estimated at the time to be around ₹32 million, which in 2023 would be approximately ₹35 billion (US$498 million). [9] The construction project employed some 20,000 artisans under the guidance of a board of architects led by Ustad Ahmad Lahori, the emperor\\'s court architect. Various types of symbolism have been employed in the Taj to reflect natural beauty and divinity.\\n\\nThe Taj Mahal was designated as a UNESCO World Heritage Site in 1983 for being \"the jewel of Muslim art in India and one of the universally admired masterpieces of the world\\'s heritage\". It is regarded by many as the best example of Mughal architecture and a symbol of India\\'s rich history. The Taj Mahal attracts 7-8 million visitors a year,[10] and in 2007 it was declared a winner of the New 7 Wonders of the World (2000–2007) initiative.\\n\\nEtymology Abdul Hamid Lahori, in his book from 1636 Padshahnama, refers to the Taj Mahal as rauza-i munawwara (Perso-Arabic: روضه منواره, rawdah-i munawwarah), meaning the illumined or illustrious tomb. [11] The current name for the Taj Mahal is of Urdu origin, and believed to be derived from Arabic and Persian, with the words tāj mahall meaning \"crown\" (tāj) \"palace\" (mahall). [12][13][4] The name \"Taj\" came from the corruption of the second syllable of \"Mumtaz\". [14][15]\\n\\nInspiration The Taj Mahal was commissioned by Shah Jahan in 1631, to be built in the memory of his wife Mumtaz Mahal, who died on 17 June that year, while giving birth to their 14th child, Gauhara Begum. [16][17] Construction started in 1632,[18] and the mausoleum was completed in 1648, while the surrounding buildings and garden were finished five years later. [19] The imperial court documenting Shah Jahan\\'s grief after the death of Mumtaz Mahal illustrates the love story held as the inspiration for the Taj Mahal. [20] According to contemporary historians Muhammad Amin Qazvini, Abdul Hamid Lahori and Muhammad Saleh Kamboh, he did not show the same level of affection to others as he had shown her while she was alive. He avoided royal affairs for a week due to his grief, along with giving up listening to music and dressing lavishly for two years. Shah Jahan was enamored by the beauty of the land at the south side of Agra on which a mansion belonging to Raja Jai Singh I stood. This place was chosen for the construction of Mumtaz\\'s tomb by Shah Jahan and Jai Singh agreed to donate it to the emperor. [21]\\n\\nShah Jahan and Mumtaz Mahal \"Shah Jahan on a globe\" from the Smithsonian Institution \"Shah Jahan on a globe\" from the Smithsonian Institution\\n\\nArtistic depiction of Mumtaz Mahal Artistic depiction of Mumtaz Mahal Architecture and design Main article: Origins and architecture of the Taj Mahal Animation showing the Taj Mahal (English subtitles) The Taj Mahal incorporates and expands on design traditions of Indo-Islamic and earlier Mughal architecture. Specific inspiration came from successful Timurid and Mughal buildings including the Gur-e Amir (the tomb of Timur, progenitor of the Mughal dynasty, in Samarkand),[22] Humayun\\'s Tomb which inspired the Charbagh gardens and hasht-behesht (architecture) plan of the site, Itmad-Ud-Daulah\\'s Tomb (sometimes called the Baby Taj), and Shah Jahan\\'s own Jama Masjid in Delhi. While earlier Mughal buildings were primarily constructed of red sandstone, Shah Jahan promoted the use of white marble inlaid with semi-precious stones. Buildings under his patronage reached new levels of refinement. [23]\\n\\nTomb The tomb is the central focus of the entire complex of the Taj Mahal. It is a large, white marble structure standing on a square plinth and consists of a symmetrical building with an iwan (an arch-shaped doorway) topped by a large dome and finial. Like most Mughal tombs, the basic elements are Indo-Islamic in origin. [24]\\n\\nThe base structure is a large multi-chambered cube with chamfered corners forming an unequal eight-sided structure that is approximately 55 metres (180 ft) on each of the four long sides. Each side of the iwan is framed with a huge pishtaq or vaulted archway with two similarly shaped arched balconies stacked on either side. This motif of stacked pishtaqs is replicated on the chamfered corner areas, making the design completely symmetrical on all sides of the building. Four minarets frame the tomb, one at each corner of the plinth facing the chamfered corners. The main chamber houses the false sarcophagi of Mumtaz Mahal and Shah Jahan; the actual graves are at a lower level. [25]\\n\\nTaj Mahal gallery The main gateway (darwaza) to the Taj Mahal The main gateway (darwaza) to the Taj Mahal\\n\\nTaj Mahal minaret\\n\\nTaj Mahal minaret\\n\\nTaj Mahal at sunrise from Main Entrance Taj Mahal at sunrise from Main Entrance\\n\\nSketch of the interior view of the vaulted dome over the tombs of Shah Jahan (left) and Mumtaz Mahal (right) Sketch of the interior view of the vaulted dome over the tombs of Shah Jahan (left) and Mumtaz Mahal (right)\\n\\nThe false sarcophagi of Mumtaz Mahal (right) and Shah Jahan (left) in the main chamber The false sarcophagi of Mumtaz Mahal (right) and Shah Jahan (left) in the main chamber\\n\\nThe actual tombs of Mumtaz Mahal (right) and Shah Jahan (left) in the lower level. Mumtaz\\'s grave does not have a lower slab like that of Shah Jahan. The actual tombs of Mumtaz Mahal (right) and Shah Jahan (left) in the lower level. Mumtaz\\'s grave does not have a lower slab like that of Shah Jahan.\\n\\nMain marble dome, smaller domes, and decorative spires that extend from the edges of the base walls Main marble dome, smaller domes, and decorative spires that extend from the edges of the base walls\\n\\nArabic calligraphy at the tomb entrance Arabic calligraphy at the tomb entrance\\n\\nA window view of Taj Mahal from Agra Fort A window view of Taj Mahal from Agra Fort\\n\\nTaj Mahal Taj Mahal The most spectacular feature is the marble dome that surmounts the tomb. The dome is nearly 35 metres (115 ft) high which is close in measurement to the length of the base, and accentuated by the cylindrical \"drum\" it sits on, which is approximately 7 metres (23 ft) high. Because of its shape, the dome is often called an onion dome or amrud (guava dome). [26] The top is decorated with a lotus design which also serves to accentuate its height. The shape of the dome is emphasised by four smaller domed chattris (kiosks) placed at its corners, which replicate the onion shape of the main dome. The dome is slightly asymmetrical. [27] Their columned bases open through the roof of the tomb and provide light to the interior. Tall decorative spires (guldastas) extend from edges of base walls, and provide visual emphasis to the height of the dome. The lotus motif is repeated on both the chattris and guldastas. The dome and chattris are topped by a gilded finial which mixes traditional Persian and Hindustani decorative elements. [28]\\n\\nThe main finial was originally made of gold but was replaced by a copy made of gilded bronze in the early 19th century. This feature provides a clear example of integration of traditional Persian and Hindu decorative elements. [29] The finial is topped by a moon, a typical Islamic motif whose horns point heavenward. [30]\\n\\nThe minarets, which are each more than 40 metres (130 ft) tall, display the designer\\'s penchant for symmetry. They were designed as working minarets – a traditional element of mosques, used by the muezzin to call the Islamic faithful to prayer. Each minaret is effectively divided into three equal parts by two working balconies that ring the tower. At the top of the tower is a final balcony surmounted by a chattri that mirrors the design of those on the tomb. The chattris all share the same decorative elements of a lotus design topped by a gilded finial. The minarets were constructed slightly outside of the plinth so that in the event of collapse, a typical occurrence with many tall constructions of the period, the material from the towers would tend to fall away from the tomb. [31]\\n\\nExterior decorations The exterior decorations of the Taj Mahal are among the finest in Mughal architecture. As the surface area changes, the decorations are refined proportionally. The decorative elements were created by applying paint, stucco, stone inlays or carvings. In line with the Islamic prohibition against the use of anthropomorphic forms, the decorative elements can be grouped into either calligraphy, abstract forms or vegetative motifs. Throughout the complex are passages from the Qur\\'an that comprise some of the decorative elements. Recent scholarship suggests that Amanat Khan chose the passages. [32][33]\\n\\nThe calligraphy on the Great Gate reads \"O Soul, thou art at rest. Return to the Lord at peace with Him, and He at peace with you. \"[33] The calligraphy was created in 1609 by a calligrapher named Abdul Haq. Shah Jahan conferred the title of \"Amanat Khan\" upon him as a reward for his \"dazzling virtuosity\". [34] Near the lines from the Qur\\'an at the base of the interior dome is the inscription, \"Written by the insignificant being, Amanat Khan Shirazi\". [35] Much of the calligraphy is composed of florid thuluth script made of jasper or black marble[34] inlaid in white marble panels. Higher panels are written in slightly larger script to reduce the skewing effect when viewed from below. The calligraphy found on the marble cenotaphs in the tomb is particularly detailed and delicate. [citation needed]\\n\\nAbstract forms are used throughout, especially in the plinth, minarets, gateway, mosque, jawab and, to a lesser extent, on the surfaces of the tomb. The domes and vaults of the sandstone buildings are worked with tracery of incised painting to create elaborate geometric forms. Herringbone inlays define the space between many of the adjoining elements. White inlays are used in sandstone buildings, and dark or black inlays on the white marbles. Mortared areas of the marble buildings have been stained or painted in a contrasting colour which creates a complex[citation needed] array of geometric patterns. Floors and walkways use contrasting tiles or blocks in tessellation patterns. [36]\\n\\nOn the lower walls of the tomb are white marble dados sculpted with realistic bas relief depictions of flowers and vines. The marble has been polished to emphasise the exquisite detailing of the carvings. The dado frames and archway spandrels have been decorated with pietra dura inlays of highly stylised, almost geometric vines, flowers and fruits. The inlay stones are of yellow marble, jasper and jade, polished and levelled to the surface of the walls. [34]\\n\\nDetailed exterior design Taj Mahal Exterior with a minaret Taj Mahal Exterior with a minaret\\n\\nDetail of plant motifs on Taj Mahal wall Detail of plant motifs on Taj Mahal wall\\n\\nBase, dome and minaret\\n\\nBase, dome and minaret\\n\\nFinial, tamga of the Mughal Empire with the word \"Allah\" written on it in Arabic Finial, tamga of the Mughal Empire with the word \"Allah\" written on it in Arabic\\n\\nPlant motifs\\n\\nPlant motifs\\n\\nReflective tiles\\n\\nReflective tiles\\n\\nMarble jali (latticed grill)\\n\\nMarble jali (latticed grill)\\n\\nCalligraphy of Arabic Ayaat Calligraphy of Arabic Ayaat Interior decoration The interior chamber of the Taj Mahal reaches far beyond traditional decorative elements. The inlay work is not pietra dura, but a lapidary of precious and semiprecious gemstones. [37] The inner chamber is an octagon with the design allowing for entry from each face, although only the door facing the garden to the south is used. The interior walls are about 25 metres (82 ft) high and are topped by a \"false\" interior dome decorated with a sun motif. Eight pishtaq arches define the space at ground level and, as with the exterior, each lower pishtaq is crowned by a second pishtaq about midway up the wall. [38] The four central upper arches form balconies or viewing areas, and each balcony\\'s exterior window has an intricate screen or jali a grill lattice cut from marble. In addition to the light from the balcony screens, light enters through roof openings covered by chattris at the corners. The octagonal marble screen or jali bordering the cenotaphs is made from eight marble panels carved through with intricate pierce work. The remaining surfaces are inlaid in delicate detail with semi-precious stones forming twining vines, fruits and flowers. Each chamber wall is highly decorated with dado bas-relief, intricate lapidary inlay and refined calligraphy panels which reflect, in little detail, the design elements seen throughout the exterior of the complex. [39]\\n\\nDetailed interior design\\n\\nFlowers carved in marble\\n\\nFlowers carved in marble\\n\\nDetail of pietra dura jali inlay Detail of pietra dura jali inlay\\n\\nDelicacy of intricate pierce work Delicacy of intricate pierce work\\n\\nArchways in the mosque\\n\\nArchways in the mosque\\n\\nIncised painting\\n\\nIncised painting\\n\\nFinial floor tiling\\n\\nFinial floor tiling\\n\\nDetail of jali\\n\\nDetail of jali\\n\\nPietra dura, or parchin kari, flowers Pietra dura, or parchin kari, flowers Muslim tradition forbids elaborate decoration of graves. Hence, the bodies of Mumtaz and Shah Jahan were put in a relatively plain crypt beneath the inner chamber with their faces turned right, towards Mecca. Mumtaz Mahal\\'s cenotaph is placed at the precise centre of the inner chamber on a rectangular marble base of 1.5 by 2.5 metres (4 ft 11 in by 8 ft 2 in). Both the base and casket are elaborately inlaid with precious and semiprecious gems. Calligraphic inscriptions on the casket identify and praise Mumtaz. On the lid of the casket is a raised rectangular lozenge meant to suggest a writing tablet. Shah Jahan\\'s cenotaph is beside Mumtaz\\'s to the western side and is the only visible asymmetric element in the entire complex. His cenotaph is bigger than his wife\\'s, but reflects the same elements: a larger casket on a slightly taller base precisely decorated with lapidary and calligraphy that identifies him. On the lid of the casket is a traditional sculpture of a small pen box. [38]\\n\\nThe pen box and writing tablet are traditional Mughal funerary icons decorating the caskets of men and women respectively. The Ninety Nine Names of God are calligraphic inscriptions on the sides of the actual tomb of Mumtaz Mahal. Other inscriptions inside the crypt include: O Noble, O Magnificent, O Majestic, O Unique, O Eternal, O Glorious... . The Tomb of Shah Jahan bears a calligraphic inscription that reads: He travelled from this world to the banquet-hall of Eternity on the night of the twenty-sixth of the month of Rajab, in the year 1076 Hijri. [40]\\n\\nGarden\\n\\nWalkways beside reflecting pool The complex is set around a large 300-metre (980 ft) square charbagh or Mughal garden. The garden uses raised pathways that divide each of the four-quarters of the garden into 16 sunken parterres or flowerbeds. Halfway between the tomb and gateway in the centre of the garden is a raised marble water tank with a reflecting pool positioned on a north–south axis to reflect the image of the mausoleum. The elevated marble water tank is called al Hawd al-Kawthar in reference to the \"Tank of Abundance\" promised to Muhammad. [41]\\n\\nElsewhere, the garden is laid out with avenues of trees labelled according to common and scientific names[42] and fountains. The charbagh garden, a design inspired by Persian gardens, was introduced to India by Babur, the first Mughal emperor. It symbolises the four flowing rivers of Jannah (Paradise) and reflects the Paradise garden derived from the Persian paridaeza, meaning \\'walled garden.\\' In mystic Islamic texts of the Mughal period, Paradise is described as an ideal garden of abundance with four rivers flowing from a central spring or mountain, separating the garden into north, west, south and east. [citation needed]\\n\\nSouth-eastern view with lawn Most Mughal charbaghs are rectangular with a tomb or pavilion in the centre. The Taj Mahal garden is unusual in that the main element, the tomb, is located at the end of the garden. With the discovery of Mahtab Bagh or \"Moonlight Garden\" on the other side of the Yamuna, the interpretation of the Archaeological Survey of India is that the Yamuna river itself was incorporated into the garden\\'s design and was meant to be seen as one of the rivers of Paradise. [43] Similarities in layout and architectural features with the Shalimar Gardens suggests both gardens may have been designed by the same architect, Ali Mardan. [44] Early accounts of the garden describe its profusion of vegetation, including abundant roses, daffodils, and fruit trees. [45] As the Mughal Empire declined, the Taj Mahal and its gardens also declined. By the 19th century, the British Empire controlled more than three-fifths of India,[46] and assumed management of the Taj Mahal. They changed the landscaping to their liking which more closely resembled the formal lawns of London. [47]\\n\\nOutlying buildings\\n\\nThe western building, a mosque, faces the tomb. The Taj Mahal complex is bordered on three sides by crenellated red sandstone walls; the side facing the river is open. Outside the walls are several additional mausoleums, including those of Shah Jahan\\'s other wives, and a larger tomb for Mumtaz\\'s favourite servant. [citation needed] These structures, composed primarily of red sandstone, are typical of the smaller Mughal tombs of the era. The garden-facing inner sides of the wall are fronted by columned arcades, a feature typical of Hindu temples which was later incorporated into Mughal mosques. The wall is interspersed with domed chattris, and small buildings that may have been viewing areas or watch towers like the Music House, which is now used as a museum. [citation needed]\\n\\nThe main gateway (darwaza) is a monumental structure built primarily of marble, and reminiscent of the Mughal architecture of earlier emperors. Its archways mirror the shape of the tomb\\'s archways, and its pishtaq arches incorporate the calligraphy that decorates the tomb. It uses bas-relief and pietra dura inlaid decorations with floral motifs. The vaulted ceilings and walls have elaborate geometric designs like those found in the other sandstone buildings in the complex. [citation needed]\\n\\nAt the far end of the complex are two grand red sandstone buildings that mirror each other, and face the sides of the tomb. The backs of the buildings parallel the western and eastern walls. The western building is a mosque and the other is the jawab (answer), thought to have been constructed for architectural balance although it may have been used as a guesthouse. Distinctions between the two buildings include the jawab\\'s lack of a mihrab (a niche in a mosque\\'s wall facing Mecca), and its floors of geometric design whereas the floor of the mosque is laid with outlines of 569 prayer rugs in black marble. The mosque\\'s basic design of a long hall surmounted by three domes is similar to others built by Shah Jahan, particularly the Masjid-i Jahān-Numā, or Jama Masjid, Delhi. The Mughal mosques of this period divide the sanctuary hall into three areas comprising a main sanctuary and slightly smaller sanctuaries on either side. At the Taj Mahal, each sanctuary opens onto an expansive vaulting dome. The outlying buildings were completed in 1643. [19]\\n\\nTaj Mahal and outlying buildings as seen from across the Yamuna River (northern view) Construction The Taj Mahal is built on a parcel of land to the south of the walled city of Agra. Shah Jahan presented Maharaja Jai Singh I with a large palace in the centre of Agra in exchange for the land. [48] An area of roughly 1.2 hectares (3 acres) was excavated, filled with dirt to reduce seepage, and levelled at 50 metres (160 ft) above the riverbank level. In the tomb area, piles were dug and filled with stone and rubble to form the footings of the tomb. Instead of lashed bamboo, workmen constructed a colossal brick scaffold that mirrored the tomb. The scaffold was so enormous that foremen expected it to take years to dismantle. [49]\\n\\nThe Taj Mahal was constructed using materials from all over India and Asia. It is believed over 1,000 elephants were used to transport building materials. Some 22,000 labourers, painters, embroidery artists and stonecutters were used. [50] The translucent white marble was brought from Makrana, Rajasthan, the jasper from the Punjab region, jade and crystal from China. The turquoise was from Tibet and the Lapis lazuli from Afghanistan, while the sapphire came from Sri Lanka and the carnelian from Arabia. In all, 28 types of precious and semi-precious stone were inlaid into the white marble. [51]\\n\\nAccording to the legend, Shah Jahan decreed that anyone could keep the bricks taken from the scaffold, and thus it was dismantled by peasants overnight. [52] A 15-kilometre (9.3 mi) tamped-earth ramp was built to transport marble and materials to the construction site and teams of 20 or 30 oxen pulled the blocks on specially constructed wagons. [53] An elaborate post-and-beam pulley system was used to raise the blocks into the desired position. Water was drawn from the river by a series of purs, an animal-powered rope and bucket mechanism, into a large storage tank and raised to a large distribution tank. It was passed into three subsidiary tanks, from which it was piped to the complex. [citation needed]\\n\\nThe plinth and tomb took some 12 years to complete. The remaining parts of the complex took an additional 10 years and were completed in order of minarets, mosque and jawab, and gateway. Since the complex was built in stages, discrepancies exist in completion dates due to differing opinions on \"completion\". Construction of the mausoleum itself was essentially completed by 1643[18] while work on the outlying buildings continued for years. Estimates of the cost of construction vary due to difficulties in estimating costs across time. The total cost at the time has been estimated to be about ₹ 32 million,[18] which is around ₹ 52.8 billion ($827 million US) based on 2015 values. [54]\\n\\nSymbolism Due to the global attention that it has received and the millions of visitors it attracts, the Taj Mahal has become a prominent image that is associated with India, and in this way has become a symbol of India itself. [55]\\n\\nAlong with being a renowned symbol of love, the Taj Mahal is also a symbol of Shah Jahan\\'s wealth and power, and the fact that the empire had prospered under his rule. [56] Bilateral symmetry dominated by a central axis has been used by rulers as a symbol of a ruling force that brings balance and harmony, and Shah Jahan applied that concept in the making of the Taj Mahal. [57] Additionally, the plan is aligned in the cardinal north–south direction and the corners have been placed so that when seen from the centre of the plan, the sun can be seen rising and setting on the north and south corners on the summer and winter solstices respectively. This makes the Taj a symbolic horizon. [58]\\n\\nThe planning and structure of the Taj Mahal, from the building itself to the gardens and beyond, is symbolic of Mumtaz Mahal\\'s mansion in the garden of Paradise. [57] The concept of Gardens of Paradise is extended into the building of the mausoleum as well. Colorful vines and flowers decorate the interior, and are filled in with semi-precious stones using a technique called pietra dura, or as the Mughals called it, parchin kari. [59] The building appears to slightly change colour depending on the time of day and the weather. The sky has not only been incorporated in the design through the reflecting pools but also through the surface of the building itself. This is another way to imply the presence of Allah at the site. [60]\\n\\nAccording to Ebba Koch, art historian and international expert in the understanding and interpretation of Mughal architecture and the Taj Mahal, the planning of the entire compound of the Taj symbolises earthly life and the afterlife, a subset of the symbolisation of the divine. The plan has been split into two – one half is the white marble mausoleum itself and the gardens, and the other half is the red sandstone side meant for worldly markets. Only the mausoleum is white so as to represent the enlightenment, spirituality and faith of Mumtaz Mahal. According to the world-traveler Eleanor Roosevelt, the white symbolised the purity of real love. [61] Koch has deciphered that symbolic of Islamic teachings, the plan of the worldly side is a mirror image of the otherworldly side, and the grand gate in the middle represents the transition between the two worlds.\\n\\nThe Taj is also seen as a feminine architectural form, and is thought to embody Mumtaz Mahal herself. [62]\\n\\nLater days Soon after the Taj Mahal\\'s completion, Shah Jahan was deposed by his son Aurangzeb and put under house arrest at the nearby Agra Fort from where he could see the Taj Mahal. Upon Shah Jahan\\'s death, Aurangzeb buried him in the mausoleum next to his wife. [63] In the 18th century, the Jat rulers of Bharatpur invaded Agra and attacked the Taj Mahal. They took away the two chandeliers, one of agate and another of silver, which were hung over the main cenotaph; they also took the gold and silver screen. Kanbo, a Mughal historian, said the gold shield which covered the 4.6-metre-high (15 ft) finial at the top of the main dome was also removed during the Jat despoilation. [64]\\n\\nBy the late 19th century, parts of the buildings had fallen into disrepair. At the end of the 19th century, British viceroy Lord Curzon ordered a sweeping restoration project, which was completed in 1908. [65] He also commissioned the large lamp in the interior chamber, modelled after one in a Cairo mosque. During this time, the garden was remodelled with European-style lawns that are still in place today. [66]\\n\\nThreats\\n\\nProtective wartime scaffolding in 1942 In 1942, the government erected scaffolding to disguise the building in anticipation of air attacks by the Japanese Air Force. [67][68] During the India-Pakistan wars of 1965 and 1971, scaffolding was again erected to mislead bomber pilots. [69]\\n\\nMore recent threats have come from environmental pollution on the banks of the Yamuna River including acid rain[70] due to the Mathura Oil Refinery,[71] which was opposed by Supreme Court of India directives. [72] The pollution has been turning the Taj Mahal yellow-brown. [73][74] To help control the pollution, the Indian government has set up the \"Taj Trapezium Zone (TTZ)\", a 10,400-square-kilometre (4,000 sq mi) area around the monument where strict emissions standards are in place. [75]\\n\\nConcerns for the tomb\\'s structural integrity have recently been raised because of a decline in the groundwater level in the Yamuna river basin which is falling at a rate of around 1.5 m (5 ft) per year. In 2010, cracks appeared in parts of the tomb, and the minarets which surround the monument were showing signs of tilting, as the wooden foundation of the tomb may be rotting due to lack of water. It has been pointed out by politicians, however, that the minarets are designed to tilt slightly outwards to prevent them from crashing on top of the tomb in the event of an earthquake. In 2011, it was reported that some predictions indicated that the tomb could collapse within five years. [76]\\n\\nSmall minarets located at two of the outlying buildings were reported as damaged by a storm on 11 April 2018. [77] On 31 May 2020 another fierce thunderstorm caused some damage to the complex. [78]\\n\\nTourism\\n\\nVisitors at Taj Mahal The Taj Mahal attracts a large number of tourists. UNESCO documented more than 2 million visitors in 2001,[79] which had increased to about 7–8 million in 2014. [80] A three-tier pricing system is in place, with a significantly lower entrance fee for Indian citizens and more expensive ones for foreigners. As of 2022, the fee for Indian citizens was ₹50, for citizens of SAARC and BIMSTEC countries, it was ₹540 and for other foreign tourists, it was ₹1,100. [81] Most tourists visit in the cooler months of October, November and February. Polluting traffic is not allowed near the complex and tourists must either walk from parking areas or catch an electric bus. The Khawasspuras (northern courtyards) are currently being restored for use as a new visitor centre. [82][83] In 2019, to address overtourism, the site instituted fines for visitors who stayed longer than three hours. [84]\\n\\nThe small town to the south of the Taj, known as Taj Ganji or Mumtazabad, was initially constructed with caravanserais, bazaars and markets to serve the needs of visitors and workers. [85] Lists of recommended travel destinations often feature the Taj Mahal, which also appears in several listings of seven wonders of the modern world, including the recently announced New Seven Wonders of the World, a recent poll with 100 million votes. [86]\\n\\nThe grounds are open from 06:00 to 19:00 hours on weekdays, except on Friday when the complex is open for prayers at the mosque between 12:00 and 14:00 hours. The complex is open for night viewing on the day of the full moon and two days before and after,[87] excluding Fridays and the month of Ramadan.\\n\\nForeign dignitaries often visit the Taj Mahal on trips to India. Notable figures who have travelled to the site include Dwight Eisenhower, Jacqueline Kennedy, Jimmy Carter, George H. W. Bush, George Harrison, Vladimir Putin, Princess Diana, Donald Trump, Justin Trudeau, Prince Charles, Queen Elizabeth, and Prince Philip. [88][89][90][91]\\n\\nMyths\\n\\nJean-Baptiste Tavernier, one of the first European writers about the Taj Mahal Ever since its construction, the building has been the source of an admiration transcending culture and geography, and so personal and emotional responses have consistently eclipsed scholastic appraisals of the monument. [92] A longstanding myth holds that Shah Jahan planned a mausoleum to be built in black marble as a Black Taj Mahal across the Yamuna river. [16] The idea originates from fanciful writings of Jean-Baptiste Tavernier, a European traveller who visited Agra in 1665. It was suggested that his son Aurangzeb overthrew Shah Jahan before it could be built. Ruins of blackened marble across the river in the Mehtab Bagh, seemed to support this legend. However, excavations carried out in the 1990s found that they were discoloured white stones that had turned black. [93] A more credible theory for the origins of the black mausoleum was demonstrated in 2006 by archaeologists who reconstructed part of the pool in the Mehtab Bagh. A dark reflection of the white mausoleum could clearly be seen, befitting Shah Jahan\\'s obsession with symmetry and the positioning of the pool itself. [94]\\n\\nNo concrete evidence exists for claims that describe, often in horrific detail, the deaths, dismemberments and mutilations which Shah Jahan supposedly inflicted on various architects and craftsmen associated with the tomb. [95][96] Some stories claim that those involved in construction signed contracts committing themselves to have no part in any similar design. Similar claims are made for many famous buildings. [97] No evidence exists for claims that Lord William Bentinck, governor-general of India in the 1830s, supposedly planned to demolish the Taj Mahal and auction off the marble. Bentinck\\'s biographer John Rosselli says that the story arose from Bentinck\\'s fund-raising sale of discarded marble from Agra Fort. [98]\\n\\nAnother myth suggests that beating the silhouette of the finial will cause water to come forth. To this day, officials find broken bangles surrounding the silhouette. [99]\\n\\nSeveral myths, none of which are supported by the archaeological record, have appeared asserting that people other than Shah Jahan and the original architects were responsible for the construction of the Taj Mahal. For instance, in 2000, India\\'s Supreme Court dismissed P. N. Oak\\'s petition[100] to declare that a Hindu king built the Taj Mahal. [97][101] In 2005, a similar petition was dismissed by the Allahabad High Court. This case was brought by Amar Nath Mishra, a social worker and preacher who claimed that the Taj Mahal was built by the Hindu king Paramardi in 1196. [102]\\n\\nAnother such unsupported theory is that the Taj Mahal was designed by an Italian, Geronimo Vereneo, held sway for a brief period after it was first promoted by Henry George Keene in 1879 who went by a translation of a Spanish work Itinerario, (The Travels of Fray Sebastian Manrique, 1629–1643). Another theory that a Frenchman, Austin of Bordeaux designed the Taj was promoted by William Henry Sleeman based on the work of Jean-Baptiste Tavernier. These ideas were revived by Father Hosten and discussed again by E.B. Havell and served as the basis for subsequent theories and controversies. [103]\\n\\nAs of 2017, several court cases about Taj Mahal being a Hindu temple have been inspired by P. N. Oak\\'s theory. [104][105] In August 2017, Archaeological Survey of India (ASI) stated there was no evidence to suggest the monument ever housed a temple. [106] Bharatiya Janata Party\\'s Vinay Katiyar in 2017 claimed that the 17th century monument was built by Mughal emperor Shah Jahan after destroying a Hindu temple called \"Tejo Mahalaya\" and it housed a Shiva linga. This claim had also been made by another BJP member Laxmikant Bajpai in 2014. The BJP government\\'s Union Minister of Culture Mahesh Sharma stated in November 2015 during a session of the parliament, that there was no evidence that it was a temple. The theories about Taj Mahal being a Shiva temple started circulating when Oak released his 1989 book Taj Mahal: The True Story. He claimed it was built in 1155 AD and not in the 17th century, as stated by the ASI. [107]\\n\\nGallery Taj Mahal Eastern view in the morning Eastern view in the morning\\n\\nTaj Mahal in cloudy weather and its minaret under restoration Taj Mahal in cloudy weather and its minaret under restoration\\n\\nWestern view at sunset\\n\\nWestern view at sunset', metadata={'source': 'dat\\\\untitled.txt'})]"
      ]
     },
     "execution_count": 119,
     "metadata": {},
     "output_type": "execute_result"
    }
   ],
   "source": [
    "documents"
   ]
  },
  {
   "cell_type": "code",
   "execution_count": 120,
   "id": "fec871d8",
   "metadata": {},
   "outputs": [
    {
     "data": {
      "text/plain": [
       "[Document(page_content='The Taj Mahal (/ˌtɑːdʒ məˈhɑːl, ˌtɑːʒ-/; lit. \\'Crown of the Palace\\')[4][5][6] is an ivory-white marble mausoleum on the right bank of the river Yamuna in Agra, Uttar Pradesh, India. It was commissioned in 1631 by the fifth Mughal emperor, Shah Jahan (r.\\u20091628–1658) to house the tomb of his beloved wife, Mumtaz Mahal; it also houses the tomb of Shah Jahan himself. The tomb is the centrepiece of a 17-hectare (42-acre) complex, which includes a mosque and a guest house, and is set in formal gardens bounded on three sides by a crenellated wall.\\n\\nConstruction of the mausoleum was essentially completed in 1643, but work continued on other phases of the project for another 10 years. The first ceremony held at the mausoleum was an observance by Shah Jahan, on 6 February 1643, of the 12th anniversary of the death of Mumtaz Mahal. The mausoleum was opened at that time to thousands of mourners. [7][8]\\n\\nThe Taj Mahal complex is believed to have been completed in its entirety in 1653 at a cost estimated at the time to be around ₹32 million, which in 2023 would be approximately ₹35 billion (US$498 million). [9] The construction project employed some 20,000 artisans under the guidance of a board of architects led by Ustad Ahmad Lahori, the emperor\\'s court architect. Various types of symbolism have been employed in the Taj to reflect natural beauty and divinity.\\n\\nThe Taj Mahal was designated as a UNESCO World Heritage Site in 1983 for being \"the jewel of Muslim art in India and one of the universally admired masterpieces of the world\\'s heritage\". It is regarded by many as the best example of Mughal architecture and a symbol of India\\'s rich history. The Taj Mahal attracts 7-8 million visitors a year,[10] and in 2007 it was declared a winner of the New 7 Wonders of the World (2000–2007) initiative.\\n\\nEtymology Abdul Hamid Lahori, in his book from 1636 Padshahnama, refers to the Taj Mahal as rauza-i munawwara (Perso-Arabic: روضه منواره, rawdah-i munawwarah), meaning the illumined or illustrious tomb. [11] The current name for the Taj Mahal is of Urdu origin, and believed to be derived from Arabic and Persian, with the words tāj mahall meaning \"crown\" (tāj) \"palace\" (mahall). [12][13][4] The name \"Taj\" came from the corruption of the second syllable of \"Mumtaz\". [14][15]\\n\\nInspiration The Taj Mahal was commissioned by Shah Jahan in 1631, to be built in the memory of his wife Mumtaz Mahal, who died on 17 June that year, while giving birth to their 14th child, Gauhara Begum. [16][17] Construction started in 1632,[18] and the mausoleum was completed in 1648, while the surrounding buildings and garden were finished five years later. [19] The imperial court documenting Shah Jahan\\'s grief after the death of Mumtaz Mahal illustrates the love story held as the inspiration for the Taj Mahal. [20] According to contemporary historians Muhammad Amin Qazvini, Abdul Hamid Lahori and Muhammad Saleh Kamboh, he did not show the same level of affection to others as he had shown her while she was alive. He avoided royal affairs for a week due to his grief, along with giving up listening to music and dressing lavishly for two years. Shah Jahan was enamored by the beauty of the land at the south side of Agra on which a mansion belonging to Raja Jai Singh I stood. This place was chosen for the construction of Mumtaz\\'s tomb by Shah Jahan and Jai Singh agreed to donate it to the emperor. [21]\\n\\nShah Jahan and Mumtaz Mahal \"Shah Jahan on a globe\" from the Smithsonian Institution \"Shah Jahan on a globe\" from the Smithsonian Institution\\n\\nArtistic depiction of Mumtaz Mahal Artistic depiction of Mumtaz Mahal Architecture and design Main article: Origins and architecture of the Taj Mahal Animation showing the Taj Mahal (English subtitles) The Taj Mahal incorporates and expands on design traditions of Indo-Islamic and earlier Mughal architecture. Specific inspiration came from successful Timurid and Mughal buildings including the Gur-e Amir (the tomb of Timur, progenitor of the Mughal dynasty, in Samarkand),[22] Humayun\\'s Tomb which inspired the Charbagh gardens and hasht-behesht (architecture) plan of the site, Itmad-Ud-Daulah\\'s Tomb (sometimes called the Baby Taj), and Shah Jahan\\'s own Jama Masjid in Delhi. While earlier Mughal buildings were primarily constructed of red sandstone, Shah Jahan promoted the use of white marble inlaid with semi-precious stones. Buildings under his patronage reached new levels of refinement. [23]\\n\\nTomb The tomb is the central focus of the entire complex of the Taj Mahal. It is a large, white marble structure standing on a square plinth and consists of a symmetrical building with an iwan (an arch-shaped doorway) topped by a large dome and finial. Like most Mughal tombs, the basic elements are Indo-Islamic in origin. [24]\\n\\nThe base structure is a large multi-chambered cube with chamfered corners forming an unequal eight-sided structure that is approximately 55 metres (180 ft) on each of the four long sides. Each side of the iwan is framed with a huge pishtaq or vaulted archway with two similarly shaped arched balconies stacked on either side. This motif of stacked pishtaqs is replicated on the chamfered corner areas, making the design completely symmetrical on all sides of the building. Four minarets frame the tomb, one at each corner of the plinth facing the chamfered corners. The main chamber houses the false sarcophagi of Mumtaz Mahal and Shah Jahan; the actual graves are at a lower level. [25]\\n\\nTaj Mahal gallery The main gateway (darwaza) to the Taj Mahal The main gateway (darwaza) to the Taj Mahal\\n\\nTaj Mahal minaret\\n\\nTaj Mahal minaret\\n\\nTaj Mahal at sunrise from Main Entrance Taj Mahal at sunrise from Main Entrance\\n\\nSketch of the interior view of the vaulted dome over the tombs of Shah Jahan (left) and Mumtaz Mahal (right) Sketch of the interior view of the vaulted dome over the tombs of Shah Jahan (left) and Mumtaz Mahal (right)\\n\\nThe false sarcophagi of Mumtaz Mahal (right) and Shah Jahan (left) in the main chamber The false sarcophagi of Mumtaz Mahal (right) and Shah Jahan (left) in the main chamber\\n\\nThe actual tombs of Mumtaz Mahal (right) and Shah Jahan (left) in the lower level. Mumtaz\\'s grave does not have a lower slab like that of Shah Jahan. The actual tombs of Mumtaz Mahal (right) and Shah Jahan (left) in the lower level. Mumtaz\\'s grave does not have a lower slab like that of Shah Jahan.\\n\\nMain marble dome, smaller domes, and decorative spires that extend from the edges of the base walls Main marble dome, smaller domes, and decorative spires that extend from the edges of the base walls\\n\\nArabic calligraphy at the tomb entrance Arabic calligraphy at the tomb entrance\\n\\nA window view of Taj Mahal from Agra Fort A window view of Taj Mahal from Agra Fort\\n\\nTaj Mahal Taj Mahal The most spectacular feature is the marble dome that surmounts the tomb. The dome is nearly 35 metres (115 ft) high which is close in measurement to the length of the base, and accentuated by the cylindrical \"drum\" it sits on, which is approximately 7 metres (23 ft) high. Because of its shape, the dome is often called an onion dome or amrud (guava dome). [26] The top is decorated with a lotus design which also serves to accentuate its height. The shape of the dome is emphasised by four smaller domed chattris (kiosks) placed at its corners, which replicate the onion shape of the main dome. The dome is slightly asymmetrical. [27] Their columned bases open through the roof of the tomb and provide light to the interior. Tall decorative spires (guldastas) extend from edges of base walls, and provide visual emphasis to the height of the dome. The lotus motif is repeated on both the chattris and guldastas. The dome and chattris are topped by a gilded finial which mixes traditional Persian and Hindustani decorative elements. [28]\\n\\nThe main finial was originally made of gold but was replaced by a copy made of gilded bronze in the early 19th century. This feature provides a clear example of integration of traditional Persian and Hindu decorative elements. [29] The finial is topped by a moon, a typical Islamic motif whose horns point heavenward. [30]\\n\\nThe minarets, which are each more than 40 metres (130 ft) tall, display the designer\\'s penchant for symmetry. They were designed as working minarets – a traditional element of mosques, used by the muezzin to call the Islamic faithful to prayer. Each minaret is effectively divided into three equal parts by two working balconies that ring the tower. At the top of the tower is a final balcony surmounted by a chattri that mirrors the design of those on the tomb. The chattris all share the same decorative elements of a lotus design topped by a gilded finial. The minarets were constructed slightly outside of the plinth so that in the event of collapse, a typical occurrence with many tall constructions of the period, the material from the towers would tend to fall away from the tomb. [31]\\n\\nExterior decorations The exterior decorations of the Taj Mahal are among the finest in Mughal architecture. As the surface area changes, the decorations are refined proportionally. The decorative elements were created by applying paint, stucco, stone inlays or carvings. In line with the Islamic prohibition against the use of anthropomorphic forms, the decorative elements can be grouped into either calligraphy, abstract forms or vegetative motifs. Throughout the complex are passages from the Qur\\'an that comprise some of the decorative elements. Recent scholarship suggests that Amanat Khan chose the passages. [32][33]\\n\\nThe calligraphy on the Great Gate reads \"O Soul, thou art at rest. Return to the Lord at peace with Him, and He at peace with you. \"[33] The calligraphy was created in 1609 by a calligrapher named Abdul Haq. Shah Jahan conferred the title of \"Amanat Khan\" upon him as a reward for his \"dazzling virtuosity\". [34] Near the lines from the Qur\\'an at the base of the interior dome is the inscription, \"Written by the insignificant being, Amanat Khan Shirazi\". [35] Much of the calligraphy is composed of florid thuluth script made of jasper or black marble[34] inlaid in white marble panels. Higher panels are written in slightly larger script to reduce the skewing effect when viewed from below. The calligraphy found on the marble cenotaphs in the tomb is particularly detailed and delicate. [citation needed]\\n\\nAbstract forms are used throughout, especially in the plinth, minarets, gateway, mosque, jawab and, to a lesser extent, on the surfaces of the tomb. The domes and vaults of the sandstone buildings are worked with tracery of incised painting to create elaborate geometric forms. Herringbone inlays define the space between many of the adjoining elements. White inlays are used in sandstone buildings, and dark or black inlays on the white marbles. Mortared areas of the marble buildings have been stained or painted in a contrasting colour which creates a complex[citation needed] array of geometric patterns. Floors and walkways use contrasting tiles or blocks in tessellation patterns. [36]\\n\\nOn the lower walls of the tomb are white marble dados sculpted with realistic bas relief depictions of flowers and vines. The marble has been polished to emphasise the exquisite detailing of the carvings. The dado frames and archway spandrels have been decorated with pietra dura inlays of highly stylised, almost geometric vines, flowers and fruits. The inlay stones are of yellow marble, jasper and jade, polished and levelled to the surface of the walls. [34]\\n\\nDetailed exterior design Taj Mahal Exterior with a minaret Taj Mahal Exterior with a minaret\\n\\nDetail of plant motifs on Taj Mahal wall Detail of plant motifs on Taj Mahal wall\\n\\nBase, dome and minaret\\n\\nBase, dome and minaret\\n\\nFinial, tamga of the Mughal Empire with the word \"Allah\" written on it in Arabic Finial, tamga of the Mughal Empire with the word \"Allah\" written on it in Arabic\\n\\nPlant motifs\\n\\nPlant motifs\\n\\nReflective tiles\\n\\nReflective tiles\\n\\nMarble jali (latticed grill)\\n\\nMarble jali (latticed grill)\\n\\nCalligraphy of Arabic Ayaat Calligraphy of Arabic Ayaat Interior decoration The interior chamber of the Taj Mahal reaches far beyond traditional decorative elements. The inlay work is not pietra dura, but a lapidary of precious and semiprecious gemstones. [37] The inner chamber is an octagon with the design allowing for entry from each face, although only the door facing the garden to the south is used. The interior walls are about 25 metres (82 ft) high and are topped by a \"false\" interior dome decorated with a sun motif. Eight pishtaq arches define the space at ground level and, as with the exterior, each lower pishtaq is crowned by a second pishtaq about midway up the wall. [38] The four central upper arches form balconies or viewing areas, and each balcony\\'s exterior window has an intricate screen or jali a grill lattice cut from marble. In addition to the light from the balcony screens, light enters through roof openings covered by chattris at the corners. The octagonal marble screen or jali bordering the cenotaphs is made from eight marble panels carved through with intricate pierce work. The remaining surfaces are inlaid in delicate detail with semi-precious stones forming twining vines, fruits and flowers. Each chamber wall is highly decorated with dado bas-relief, intricate lapidary inlay and refined calligraphy panels which reflect, in little detail, the design elements seen throughout the exterior of the complex. [39]\\n\\nDetailed interior design\\n\\nFlowers carved in marble\\n\\nFlowers carved in marble\\n\\nDetail of pietra dura jali inlay Detail of pietra dura jali inlay\\n\\nDelicacy of intricate pierce work Delicacy of intricate pierce work\\n\\nArchways in the mosque\\n\\nArchways in the mosque\\n\\nIncised painting\\n\\nIncised painting\\n\\nFinial floor tiling\\n\\nFinial floor tiling\\n\\nDetail of jali\\n\\nDetail of jali\\n\\nPietra dura, or parchin kari, flowers Pietra dura, or parchin kari, flowers Muslim tradition forbids elaborate decoration of graves. Hence, the bodies of Mumtaz and Shah Jahan were put in a relatively plain crypt beneath the inner chamber with their faces turned right, towards Mecca. Mumtaz Mahal\\'s cenotaph is placed at the precise centre of the inner chamber on a rectangular marble base of 1.5 by 2.5 metres (4 ft 11 in by 8 ft 2 in). Both the base and casket are elaborately inlaid with precious and semiprecious gems. Calligraphic inscriptions on the casket identify and praise Mumtaz. On the lid of the casket is a raised rectangular lozenge meant to suggest a writing tablet. Shah Jahan\\'s cenotaph is beside Mumtaz\\'s to the western side and is the only visible asymmetric element in the entire complex. His cenotaph is bigger than his wife\\'s, but reflects the same elements: a larger casket on a slightly taller base precisely decorated with lapidary and calligraphy that identifies him. On the lid of the casket is a traditional sculpture of a small pen box. [38]\\n\\nThe pen box and writing tablet are traditional Mughal funerary icons decorating the caskets of men and women respectively. The Ninety Nine Names of God are calligraphic inscriptions on the sides of the actual tomb of Mumtaz Mahal. Other inscriptions inside the crypt include: O Noble, O Magnificent, O Majestic, O Unique, O Eternal, O Glorious... . The Tomb of Shah Jahan bears a calligraphic inscription that reads: He travelled from this world to the banquet-hall of Eternity on the night of the twenty-sixth of the month of Rajab, in the year 1076 Hijri. [40]\\n\\nGarden\\n\\nWalkways beside reflecting pool The complex is set around a large 300-metre (980 ft) square charbagh or Mughal garden. The garden uses raised pathways that divide each of the four-quarters of the garden into 16 sunken parterres or flowerbeds. Halfway between the tomb and gateway in the centre of the garden is a raised marble water tank with a reflecting pool positioned on a north–south axis to reflect the image of the mausoleum. The elevated marble water tank is called al Hawd al-Kawthar in reference to the \"Tank of Abundance\" promised to Muhammad. [41]\\n\\nElsewhere, the garden is laid out with avenues of trees labelled according to common and scientific names[42] and fountains. The charbagh garden, a design inspired by Persian gardens, was introduced to India by Babur, the first Mughal emperor. It symbolises the four flowing rivers of Jannah (Paradise) and reflects the Paradise garden derived from the Persian paridaeza, meaning \\'walled garden.\\' In mystic Islamic texts of the Mughal period, Paradise is described as an ideal garden of abundance with four rivers flowing from a central spring or mountain, separating the garden into north, west, south and east. [citation needed]\\n\\nSouth-eastern view with lawn Most Mughal charbaghs are rectangular with a tomb or pavilion in the centre. The Taj Mahal garden is unusual in that the main element, the tomb, is located at the end of the garden. With the discovery of Mahtab Bagh or \"Moonlight Garden\" on the other side of the Yamuna, the interpretation of the Archaeological Survey of India is that the Yamuna river itself was incorporated into the garden\\'s design and was meant to be seen as one of the rivers of Paradise. [43] Similarities in layout and architectural features with the Shalimar Gardens suggests both gardens may have been designed by the same architect, Ali Mardan. [44] Early accounts of the garden describe its profusion of vegetation, including abundant roses, daffodils, and fruit trees. [45] As the Mughal Empire declined, the Taj Mahal and its gardens also declined. By the 19th century, the British Empire controlled more than three-fifths of India,[46] and assumed management of the Taj Mahal. They changed the landscaping to their liking which more closely resembled the formal lawns of London. [47]\\n\\nOutlying buildings\\n\\nThe western building, a mosque, faces the tomb. The Taj Mahal complex is bordered on three sides by crenellated red sandstone walls; the side facing the river is open. Outside the walls are several additional mausoleums, including those of Shah Jahan\\'s other wives, and a larger tomb for Mumtaz\\'s favourite servant. [citation needed] These structures, composed primarily of red sandstone, are typical of the smaller Mughal tombs of the era. The garden-facing inner sides of the wall are fronted by columned arcades, a feature typical of Hindu temples which was later incorporated into Mughal mosques. The wall is interspersed with domed chattris, and small buildings that may have been viewing areas or watch towers like the Music House, which is now used as a museum. [citation needed]\\n\\nThe main gateway (darwaza) is a monumental structure built primarily of marble, and reminiscent of the Mughal architecture of earlier emperors. Its archways mirror the shape of the tomb\\'s archways, and its pishtaq arches incorporate the calligraphy that decorates the tomb. It uses bas-relief and pietra dura inlaid decorations with floral motifs. The vaulted ceilings and walls have elaborate geometric designs like those found in the other sandstone buildings in the complex. [citation needed]\\n\\nAt the far end of the complex are two grand red sandstone buildings that mirror each other, and face the sides of the tomb. The backs of the buildings parallel the western and eastern walls. The western building is a mosque and the other is the jawab (answer), thought to have been constructed for architectural balance although it may have been used as a guesthouse. Distinctions between the two buildings include the jawab\\'s lack of a mihrab (a niche in a mosque\\'s wall facing Mecca), and its floors of geometric design whereas the floor of the mosque is laid with outlines of 569 prayer rugs in black marble. The mosque\\'s basic design of a long hall surmounted by three domes is similar to others built by Shah Jahan, particularly the Masjid-i Jahān-Numā, or Jama Masjid, Delhi. The Mughal mosques of this period divide the sanctuary hall into three areas comprising a main sanctuary and slightly smaller sanctuaries on either side. At the Taj Mahal, each sanctuary opens onto an expansive vaulting dome. The outlying buildings were completed in 1643. [19]\\n\\nTaj Mahal and outlying buildings as seen from across the Yamuna River (northern view) Construction The Taj Mahal is built on a parcel of land to the south of the walled city of Agra. Shah Jahan presented Maharaja Jai Singh I with a large palace in the centre of Agra in exchange for the land. [48] An area of roughly 1.2 hectares (3 acres) was excavated, filled with dirt to reduce seepage, and levelled at 50 metres (160 ft) above the riverbank level. In the tomb area, piles were dug and filled with stone and rubble to form the footings of the tomb. Instead of lashed bamboo, workmen constructed a colossal brick scaffold that mirrored the tomb. The scaffold was so enormous that foremen expected it to take years to dismantle. [49]\\n\\nThe Taj Mahal was constructed using materials from all over India and Asia. It is believed over 1,000 elephants were used to transport building materials. Some 22,000 labourers, painters, embroidery artists and stonecutters were used. [50] The translucent white marble was brought from Makrana, Rajasthan, the jasper from the Punjab region, jade and crystal from China. The turquoise was from Tibet and the Lapis lazuli from Afghanistan, while the sapphire came from Sri Lanka and the carnelian from Arabia. In all, 28 types of precious and semi-precious stone were inlaid into the white marble. [51]\\n\\nAccording to the legend, Shah Jahan decreed that anyone could keep the bricks taken from the scaffold, and thus it was dismantled by peasants overnight. [52] A 15-kilometre (9.3 mi) tamped-earth ramp was built to transport marble and materials to the construction site and teams of 20 or 30 oxen pulled the blocks on specially constructed wagons. [53] An elaborate post-and-beam pulley system was used to raise the blocks into the desired position. Water was drawn from the river by a series of purs, an animal-powered rope and bucket mechanism, into a large storage tank and raised to a large distribution tank. It was passed into three subsidiary tanks, from which it was piped to the complex. [citation needed]\\n\\nThe plinth and tomb took some 12 years to complete. The remaining parts of the complex took an additional 10 years and were completed in order of minarets, mosque and jawab, and gateway. Since the complex was built in stages, discrepancies exist in completion dates due to differing opinions on \"completion\". Construction of the mausoleum itself was essentially completed by 1643[18] while work on the outlying buildings continued for years. Estimates of the cost of construction vary due to difficulties in estimating costs across time. The total cost at the time has been estimated to be about ₹ 32 million,[18] which is around ₹ 52.8 billion ($827 million US) based on 2015 values. [54]\\n\\nSymbolism Due to the global attention that it has received and the millions of visitors it attracts, the Taj Mahal has become a prominent image that is associated with India, and in this way has become a symbol of India itself. [55]\\n\\nAlong with being a renowned symbol of love, the Taj Mahal is also a symbol of Shah Jahan\\'s wealth and power, and the fact that the empire had prospered under his rule. [56] Bilateral symmetry dominated by a central axis has been used by rulers as a symbol of a ruling force that brings balance and harmony, and Shah Jahan applied that concept in the making of the Taj Mahal. [57] Additionally, the plan is aligned in the cardinal north–south direction and the corners have been placed so that when seen from the centre of the plan, the sun can be seen rising and setting on the north and south corners on the summer and winter solstices respectively. This makes the Taj a symbolic horizon. [58]\\n\\nThe planning and structure of the Taj Mahal, from the building itself to the gardens and beyond, is symbolic of Mumtaz Mahal\\'s mansion in the garden of Paradise. [57] The concept of Gardens of Paradise is extended into the building of the mausoleum as well. Colorful vines and flowers decorate the interior, and are filled in with semi-precious stones using a technique called pietra dura, or as the Mughals called it, parchin kari. [59] The building appears to slightly change colour depending on the time of day and the weather. The sky has not only been incorporated in the design through the reflecting pools but also through the surface of the building itself. This is another way to imply the presence of Allah at the site. [60]\\n\\nAccording to Ebba Koch, art historian and international expert in the understanding and interpretation of Mughal architecture and the Taj Mahal, the planning of the entire compound of the Taj symbolises earthly life and the afterlife, a subset of the symbolisation of the divine. The plan has been split into two – one half is the white marble mausoleum itself and the gardens, and the other half is the red sandstone side meant for worldly markets. Only the mausoleum is white so as to represent the enlightenment, spirituality and faith of Mumtaz Mahal. According to the world-traveler Eleanor Roosevelt, the white symbolised the purity of real love. [61] Koch has deciphered that symbolic of Islamic teachings, the plan of the worldly side is a mirror image of the otherworldly side, and the grand gate in the middle represents the transition between the two worlds.\\n\\nThe Taj is also seen as a feminine architectural form, and is thought to embody Mumtaz Mahal herself. [62]\\n\\nLater days Soon after the Taj Mahal\\'s completion, Shah Jahan was deposed by his son Aurangzeb and put under house arrest at the nearby Agra Fort from where he could see the Taj Mahal. Upon Shah Jahan\\'s death, Aurangzeb buried him in the mausoleum next to his wife. [63] In the 18th century, the Jat rulers of Bharatpur invaded Agra and attacked the Taj Mahal. They took away the two chandeliers, one of agate and another of silver, which were hung over the main cenotaph; they also took the gold and silver screen. Kanbo, a Mughal historian, said the gold shield which covered the 4.6-metre-high (15 ft) finial at the top of the main dome was also removed during the Jat despoilation. [64]\\n\\nBy the late 19th century, parts of the buildings had fallen into disrepair. At the end of the 19th century, British viceroy Lord Curzon ordered a sweeping restoration project, which was completed in 1908. [65] He also commissioned the large lamp in the interior chamber, modelled after one in a Cairo mosque. During this time, the garden was remodelled with European-style lawns that are still in place today. [66]\\n\\nThreats\\n\\nProtective wartime scaffolding in 1942 In 1942, the government erected scaffolding to disguise the building in anticipation of air attacks by the Japanese Air Force. [67][68] During the India-Pakistan wars of 1965 and 1971, scaffolding was again erected to mislead bomber pilots. [69]\\n\\nMore recent threats have come from environmental pollution on the banks of the Yamuna River including acid rain[70] due to the Mathura Oil Refinery,[71] which was opposed by Supreme Court of India directives. [72] The pollution has been turning the Taj Mahal yellow-brown. [73][74] To help control the pollution, the Indian government has set up the \"Taj Trapezium Zone (TTZ)\", a 10,400-square-kilometre (4,000 sq mi) area around the monument where strict emissions standards are in place. [75]\\n\\nConcerns for the tomb\\'s structural integrity have recently been raised because of a decline in the groundwater level in the Yamuna river basin which is falling at a rate of around 1.5 m (5 ft) per year. In 2010, cracks appeared in parts of the tomb, and the minarets which surround the monument were showing signs of tilting, as the wooden foundation of the tomb may be rotting due to lack of water. It has been pointed out by politicians, however, that the minarets are designed to tilt slightly outwards to prevent them from crashing on top of the tomb in the event of an earthquake. In 2011, it was reported that some predictions indicated that the tomb could collapse within five years. [76]\\n\\nSmall minarets located at two of the outlying buildings were reported as damaged by a storm on 11 April 2018. [77] On 31 May 2020 another fierce thunderstorm caused some damage to the complex. [78]\\n\\nTourism\\n\\nVisitors at Taj Mahal The Taj Mahal attracts a large number of tourists. UNESCO documented more than 2 million visitors in 2001,[79] which had increased to about 7–8 million in 2014. [80] A three-tier pricing system is in place, with a significantly lower entrance fee for Indian citizens and more expensive ones for foreigners. As of 2022, the fee for Indian citizens was ₹50, for citizens of SAARC and BIMSTEC countries, it was ₹540 and for other foreign tourists, it was ₹1,100. [81] Most tourists visit in the cooler months of October, November and February. Polluting traffic is not allowed near the complex and tourists must either walk from parking areas or catch an electric bus. The Khawasspuras (northern courtyards) are currently being restored for use as a new visitor centre. [82][83] In 2019, to address overtourism, the site instituted fines for visitors who stayed longer than three hours. [84]\\n\\nThe small town to the south of the Taj, known as Taj Ganji or Mumtazabad, was initially constructed with caravanserais, bazaars and markets to serve the needs of visitors and workers. [85] Lists of recommended travel destinations often feature the Taj Mahal, which also appears in several listings of seven wonders of the modern world, including the recently announced New Seven Wonders of the World, a recent poll with 100 million votes. [86]\\n\\nThe grounds are open from 06:00 to 19:00 hours on weekdays, except on Friday when the complex is open for prayers at the mosque between 12:00 and 14:00 hours. The complex is open for night viewing on the day of the full moon and two days before and after,[87] excluding Fridays and the month of Ramadan.\\n\\nForeign dignitaries often visit the Taj Mahal on trips to India. Notable figures who have travelled to the site include Dwight Eisenhower, Jacqueline Kennedy, Jimmy Carter, George H. W. Bush, George Harrison, Vladimir Putin, Princess Diana, Donald Trump, Justin Trudeau, Prince Charles, Queen Elizabeth, and Prince Philip. [88][89][90][91]\\n\\nMyths\\n\\nJean-Baptiste Tavernier, one of the first European writers about the Taj Mahal Ever since its construction, the building has been the source of an admiration transcending culture and geography, and so personal and emotional responses have consistently eclipsed scholastic appraisals of the monument. [92] A longstanding myth holds that Shah Jahan planned a mausoleum to be built in black marble as a Black Taj Mahal across the Yamuna river. [16] The idea originates from fanciful writings of Jean-Baptiste Tavernier, a European traveller who visited Agra in 1665. It was suggested that his son Aurangzeb overthrew Shah Jahan before it could be built. Ruins of blackened marble across the river in the Mehtab Bagh, seemed to support this legend. However, excavations carried out in the 1990s found that they were discoloured white stones that had turned black. [93] A more credible theory for the origins of the black mausoleum was demonstrated in 2006 by archaeologists who reconstructed part of the pool in the Mehtab Bagh. A dark reflection of the white mausoleum could clearly be seen, befitting Shah Jahan\\'s obsession with symmetry and the positioning of the pool itself. [94]\\n\\nNo concrete evidence exists for claims that describe, often in horrific detail, the deaths, dismemberments and mutilations which Shah Jahan supposedly inflicted on various architects and craftsmen associated with the tomb. [95][96] Some stories claim that those involved in construction signed contracts committing themselves to have no part in any similar design. Similar claims are made for many famous buildings. [97] No evidence exists for claims that Lord William Bentinck, governor-general of India in the 1830s, supposedly planned to demolish the Taj Mahal and auction off the marble. Bentinck\\'s biographer John Rosselli says that the story arose from Bentinck\\'s fund-raising sale of discarded marble from Agra Fort. [98]\\n\\nAnother myth suggests that beating the silhouette of the finial will cause water to come forth. To this day, officials find broken bangles surrounding the silhouette. [99]\\n\\nSeveral myths, none of which are supported by the archaeological record, have appeared asserting that people other than Shah Jahan and the original architects were responsible for the construction of the Taj Mahal. For instance, in 2000, India\\'s Supreme Court dismissed P. N. Oak\\'s petition[100] to declare that a Hindu king built the Taj Mahal. [97][101] In 2005, a similar petition was dismissed by the Allahabad High Court. This case was brought by Amar Nath Mishra, a social worker and preacher who claimed that the Taj Mahal was built by the Hindu king Paramardi in 1196. [102]\\n\\nAnother such unsupported theory is that the Taj Mahal was designed by an Italian, Geronimo Vereneo, held sway for a brief period after it was first promoted by Henry George Keene in 1879 who went by a translation of a Spanish work Itinerario, (The Travels of Fray Sebastian Manrique, 1629–1643). Another theory that a Frenchman, Austin of Bordeaux designed the Taj was promoted by William Henry Sleeman based on the work of Jean-Baptiste Tavernier. These ideas were revived by Father Hosten and discussed again by E.B. Havell and served as the basis for subsequent theories and controversies. [103]\\n\\nAs of 2017, several court cases about Taj Mahal being a Hindu temple have been inspired by P. N. Oak\\'s theory. [104][105] In August 2017, Archaeological Survey of India (ASI) stated there was no evidence to suggest the monument ever housed a temple. [106] Bharatiya Janata Party\\'s Vinay Katiyar in 2017 claimed that the 17th century monument was built by Mughal emperor Shah Jahan after destroying a Hindu temple called \"Tejo Mahalaya\" and it housed a Shiva linga. This claim had also been made by another BJP member Laxmikant Bajpai in 2014. The BJP government\\'s Union Minister of Culture Mahesh Sharma stated in November 2015 during a session of the parliament, that there was no evidence that it was a temple. The theories about Taj Mahal being a Shiva temple started circulating when Oak released his 1989 book Taj Mahal: The True Story. He claimed it was built in 1155 AD and not in the 17th century, as stated by the ASI. [107]\\n\\nGallery Taj Mahal Eastern view in the morning Eastern view in the morning\\n\\nTaj Mahal in cloudy weather and its minaret under restoration Taj Mahal in cloudy weather and its minaret under restoration\\n\\nWestern view at sunset\\n\\nWestern view at sunset', metadata={'source': 'dat\\\\untitled.txt'})]"
      ]
     },
     "execution_count": 120,
     "metadata": {},
     "output_type": "execute_result"
    }
   ],
   "source": [
    "documents[:100]"
   ]
  },
  {
   "cell_type": "code",
   "execution_count": 121,
   "id": "8beeae83",
   "metadata": {},
   "outputs": [],
   "source": [
    "from langchain.text_splitter import RecursiveCharacterTextSplitter\n",
    "text_splitter = RecursiveCharacterTextSplitter(chunk_size=500, chunk_overlap=20) \n",
    "docs = text_splitter.split_documents(documents)"
   ]
  },
  {
   "cell_type": "code",
   "execution_count": 122,
   "id": "f69858a0",
   "metadata": {},
   "outputs": [
    {
     "data": {
      "text/plain": [
       "\"The Taj Mahal (/ˌtɑːdʒ məˈhɑːl, ˌtɑːʒ-/; lit. 'Crown of the Palace')[4][5][6] is an ivory-white marble mausoleum on the right bank of the river Yamuna in Agra, Uttar Pradesh, India. It was commissioned in 1631 by the fifth Mughal emperor, Shah Jahan (r.\\u20091628–1658) to house the tomb of his beloved wife, Mumtaz Mahal; it also houses the tomb of Shah Jahan himself. The tomb is the centrepiece of a 17-hectare (42-acre) complex, which includes a mosque and a guest house, and is set in formal gardens\""
      ]
     },
     "execution_count": 122,
     "metadata": {},
     "output_type": "execute_result"
    }
   ],
   "source": [
    "docs[0].page_content"
   ]
  },
  {
   "cell_type": "code",
   "execution_count": 124,
   "id": "815e2b08",
   "metadata": {},
   "outputs": [],
   "source": [
    "from langchain.embeddings.openai import OpenAIEmbeddings\n",
    "embeddings = OpenAIEmbeddings()"
   ]
  },
  {
   "cell_type": "code",
   "execution_count": 125,
   "id": "4f53fd46",
   "metadata": {},
   "outputs": [],
   "source": [
    "docsearch = FAISS.from_documents(docs, embeddings)"
   ]
  },
  {
   "cell_type": "code",
   "execution_count": 126,
   "id": "b5d1a954",
   "metadata": {},
   "outputs": [],
   "source": [
    "from langchain.embeddings.openai import OpenAIEmbeddings\n",
    "embeddings = OpenAIEmbeddings()"
   ]
  },
  {
   "cell_type": "code",
   "execution_count": 85,
   "id": "ce8dbc48",
   "metadata": {},
   "outputs": [
    {
     "data": {
      "text/plain": [
       "<langchain_community.vectorstores.faiss.FAISS at 0x24631da4460>"
      ]
     },
     "execution_count": 85,
     "metadata": {},
     "output_type": "execute_result"
    }
   ],
   "source": [
    "docsearch"
   ]
  },
  {
   "cell_type": "code",
   "execution_count": 127,
   "id": "8b31b6b2",
   "metadata": {},
   "outputs": [],
   "source": [
    "chain = load_qa_chain(OpenAI(), chain_type=\"stuff\")"
   ]
  },
  {
   "cell_type": "code",
   "execution_count": 128,
   "id": "c412ba9f",
   "metadata": {},
   "outputs": [
    {
     "data": {
      "text/plain": [
       "\"\\nThe Taj Mahal is an ivory-white marble mausoleum located in Agra, Uttar Pradesh, India. It was commissioned in 1631 by the Mughal emperor Shah Jahan as a tomb for his beloved wife, Mumtaz Mahal, and also houses his own tomb. The complex covers 17 hectares and includes a mosque and a guest house. It is famous for its architecture, which is considered the best example of Mughal style. The marble dome is the most striking feature, standing at 35 metres high and adorned with a lotus design. The construction project employed 20,000 artisans and cost an estimated 32 million rupees at the time. In 1983, it was designated as a UNESCO World Heritage Site and in 2007, it was declared one of the New 7 Wonders of the World. It attracts millions of visitors each year and is a symbol of India's rich history.\""
      ]
     },
     "execution_count": 128,
     "metadata": {},
     "output_type": "execute_result"
    }
   ],
   "source": [
    "query = \"details about taj mahal?\"\n",
    "docs = docsearch.similarity_search(query) \n",
    "chain.run(input_documents=docs, question=query)"
   ]
  },
  {
   "cell_type": "code",
   "execution_count": 129,
   "id": "f82cee6b",
   "metadata": {},
   "outputs": [
    {
     "data": {
      "text/plain": [
       "' Shah Jahan and the original architects were responsible for the construction of the Taj Mahal.'"
      ]
     },
     "execution_count": 129,
     "metadata": {},
     "output_type": "execute_result"
    }
   ],
   "source": [
    "query = \"who build taj mahal?\"\n",
    "docs = docsearch.similarity_search(query) \n",
    "chain.run(input_documents=docs, question=query)"
   ]
  },
  {
   "cell_type": "code",
   "execution_count": 131,
   "id": "aa412698",
   "metadata": {},
   "outputs": [
    {
     "data": {
      "text/plain": [
       "\" I don't know.\""
      ]
     },
     "execution_count": 131,
     "metadata": {},
     "output_type": "execute_result"
    }
   ],
   "source": [
    "query = \"where is usa?\"\n",
    "docs = docsearch.similarity_search(query) \n",
    "chain.run(input_documents=docs, question=query)"
   ]
  },
  {
   "cell_type": "code",
   "execution_count": null,
   "id": "9fab7755",
   "metadata": {},
   "outputs": [],
   "source": []
  },
  {
   "cell_type": "code",
   "execution_count": null,
   "id": "7124c44a",
   "metadata": {},
   "outputs": [],
   "source": []
  }
 ],
 "metadata": {
  "kernelspec": {
   "display_name": "Python 3 (ipykernel)",
   "language": "python",
   "name": "python3"
  },
  "language_info": {
   "codemirror_mode": {
    "name": "ipython",
    "version": 3
   },
   "file_extension": ".py",
   "mimetype": "text/x-python",
   "name": "python",
   "nbconvert_exporter": "python",
   "pygments_lexer": "ipython3",
   "version": "3.10.9"
  }
 },
 "nbformat": 4,
 "nbformat_minor": 5
}
